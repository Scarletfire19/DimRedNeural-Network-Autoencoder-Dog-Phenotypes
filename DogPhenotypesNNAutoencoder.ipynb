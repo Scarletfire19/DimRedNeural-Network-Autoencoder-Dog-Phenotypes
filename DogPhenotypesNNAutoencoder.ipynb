{
  "nbformat": 4,
  "nbformat_minor": 0,
  "metadata": {
    "colab": {
      "name": "DogPhenotypesNNAutoencoder.ipynb",
      "provenance": []
    },
    "kernelspec": {
      "name": "python3",
      "display_name": "Python 3"
    },
    "language_info": {
      "name": "python"
    }
  },
  "cells": [
    {
      "cell_type": "code",
      "execution_count": 7,
      "metadata": {
        "id": "qID-OpJdgctW"
      },
      "outputs": [],
      "source": [
        "import pandas as pd\n",
        "from sklearn.feature_extraction.text import CountVectorizer"
      ]
    },
    {
      "cell_type": "code",
      "source": [
        "dog=pd.read_csv('/content/Dog-data-latest.csv')"
      ],
      "metadata": {
        "id": "9vHlDU-4g0in"
      },
      "execution_count": 3,
      "outputs": []
    },
    {
      "cell_type": "code",
      "source": [
        "vectorizer = CountVectorizer(analyzer='word', ngram_range=(1, 2))\n",
        "X = vectorizer.fit_transform(dog)\n",
        "inp=X.todense()"
      ],
      "metadata": {
        "colab": {
          "base_uri": "https://localhost:8080/"
        },
        "id": "oURR9qWegk6V",
        "outputId": "dd7e9466-be4b-4a2a-ccb7-c7eb4500606d"
      },
      "execution_count": 18,
      "outputs": [
        {
          "output_type": "execute_result",
          "data": {
            "text/plain": [
              "matrix([[0, 0, 0, 0, 0, 0, 0, 0, 0, 0, 0, 0, 0, 0, 0, 0, 0, 0, 0, 0, 1],\n",
              "        [0, 0, 1, 0, 0, 0, 0, 0, 0, 0, 0, 0, 0, 0, 0, 0, 0, 0, 0, 0, 0],\n",
              "        [0, 0, 0, 0, 0, 0, 0, 0, 0, 0, 0, 0, 0, 0, 0, 0, 0, 1, 0, 0, 0],\n",
              "        [0, 0, 0, 0, 0, 0, 0, 0, 0, 0, 0, 0, 0, 0, 1, 0, 0, 0, 0, 0, 0],\n",
              "        [0, 0, 0, 0, 0, 0, 0, 0, 0, 0, 0, 0, 1, 0, 0, 0, 0, 0, 0, 0, 0],\n",
              "        [0, 0, 0, 0, 0, 0, 0, 0, 0, 1, 0, 0, 0, 0, 0, 0, 0, 0, 0, 0, 0],\n",
              "        [0, 0, 0, 0, 0, 0, 0, 0, 0, 0, 0, 0, 0, 1, 0, 0, 0, 0, 0, 0, 0],\n",
              "        [0, 0, 0, 0, 0, 0, 0, 0, 0, 0, 1, 0, 0, 0, 0, 0, 0, 0, 0, 0, 0],\n",
              "        [0, 0, 0, 0, 0, 0, 0, 0, 0, 0, 0, 1, 0, 0, 0, 0, 0, 0, 0, 0, 0],\n",
              "        [0, 0, 0, 0, 0, 0, 0, 0, 1, 0, 0, 0, 0, 0, 0, 0, 0, 0, 0, 0, 0],\n",
              "        [0, 0, 0, 0, 0, 0, 0, 1, 0, 0, 0, 0, 0, 0, 0, 0, 0, 0, 0, 0, 0],\n",
              "        [0, 0, 0, 0, 0, 0, 1, 0, 0, 0, 0, 0, 0, 0, 0, 0, 0, 0, 0, 0, 0],\n",
              "        [0, 0, 0, 0, 0, 1, 0, 0, 0, 0, 0, 0, 0, 0, 0, 0, 0, 0, 0, 0, 0],\n",
              "        [0, 0, 0, 0, 0, 0, 0, 0, 0, 0, 0, 0, 0, 0, 0, 0, 1, 0, 0, 0, 0],\n",
              "        [0, 0, 0, 0, 0, 0, 0, 0, 0, 0, 0, 0, 0, 0, 0, 1, 0, 0, 0, 0, 0],\n",
              "        [0, 0, 0, 0, 1, 0, 0, 0, 0, 0, 0, 0, 0, 0, 0, 0, 0, 0, 0, 0, 0],\n",
              "        [0, 0, 0, 1, 0, 0, 0, 0, 0, 0, 0, 0, 0, 0, 0, 0, 0, 0, 0, 0, 0],\n",
              "        [0, 0, 0, 0, 0, 0, 0, 0, 0, 0, 0, 0, 0, 0, 0, 0, 0, 0, 0, 1, 0],\n",
              "        [0, 0, 0, 0, 0, 0, 0, 0, 0, 0, 0, 0, 0, 0, 0, 0, 0, 0, 1, 0, 0],\n",
              "        [0, 1, 0, 0, 0, 0, 0, 0, 0, 0, 0, 0, 0, 0, 0, 0, 0, 0, 0, 0, 0],\n",
              "        [1, 0, 0, 0, 0, 0, 0, 0, 0, 0, 0, 0, 0, 0, 0, 0, 0, 0, 0, 0, 0]])"
            ]
          },
          "metadata": {},
          "execution_count": 18
        }
      ]
    },
    {
      "cell_type": "code",
      "source": [
        "import pandas as pd\n",
        "import numpy as np\n",
        "from sklearn.preprocessing import OneHotEncoder\n",
        "# creating instance of one-hot-encoder\n",
        "enc = OneHotEncoder(handle_unknown='ignore')\n",
        "# passing bridge-types-cat column (label encoded values of bridge_types)\n",
        "enc_df = pd.DataFrame(enc.fit_transform(dog).toarray())\n",
        "# merge with main df bridge_df on key values\n"
      ],
      "metadata": {
        "colab": {
          "base_uri": "https://localhost:8080/",
          "height": 2285
        },
        "id": "WRs0QiVWyNdo",
        "outputId": "15d1f226-9fb6-41dd-9342-20ee809310a5"
      },
      "execution_count": 19,
      "outputs": [
        {
          "output_type": "execute_result",
          "data": {
            "text/plain": [
              "     0     1     2     3     4     5     6     7     8     9     ...  1337  \\\n",
              "0     1.0   0.0   0.0   0.0   0.0   0.0   0.0   0.0   0.0   0.0  ...   0.0   \n",
              "1     0.0   1.0   0.0   0.0   0.0   0.0   0.0   0.0   0.0   0.0  ...   0.0   \n",
              "2     0.0   0.0   1.0   0.0   0.0   0.0   0.0   0.0   0.0   0.0  ...   0.0   \n",
              "3     0.0   0.0   0.0   1.0   0.0   0.0   0.0   0.0   0.0   0.0  ...   1.0   \n",
              "4     0.0   0.0   0.0   0.0   1.0   0.0   0.0   0.0   0.0   0.0  ...   0.0   \n",
              "..    ...   ...   ...   ...   ...   ...   ...   ...   ...   ...  ...   ...   \n",
              "272   0.0   0.0   0.0   0.0   0.0   0.0   0.0   0.0   0.0   0.0  ...   1.0   \n",
              "273   0.0   0.0   0.0   0.0   0.0   0.0   0.0   0.0   0.0   0.0  ...   1.0   \n",
              "274   0.0   0.0   0.0   0.0   0.0   0.0   0.0   0.0   0.0   0.0  ...   1.0   \n",
              "275   0.0   0.0   0.0   0.0   0.0   0.0   0.0   0.0   0.0   0.0  ...   0.0   \n",
              "276   0.0   0.0   0.0   0.0   0.0   0.0   0.0   0.0   0.0   0.0  ...   0.0   \n",
              "\n",
              "     1338  1339  1340  1341  1342  1343  1344  1345  1346  \n",
              "0     0.0   1.0   0.0   0.0   0.0   0.0   1.0   0.0   0.0  \n",
              "1     0.0   0.0   0.0   0.0   1.0   0.0   0.0   0.0   0.0  \n",
              "2     1.0   0.0   0.0   0.0   0.0   1.0   0.0   0.0   0.0  \n",
              "3     0.0   0.0   0.0   1.0   0.0   0.0   0.0   0.0   0.0  \n",
              "4     1.0   0.0   0.0   0.0   0.0   1.0   0.0   0.0   0.0  \n",
              "..    ...   ...   ...   ...   ...   ...   ...   ...   ...  \n",
              "272   0.0   0.0   0.0   1.0   0.0   0.0   0.0   0.0   0.0  \n",
              "273   0.0   0.0   0.0   1.0   0.0   0.0   0.0   0.0   0.0  \n",
              "274   0.0   0.0   0.0   1.0   0.0   0.0   0.0   0.0   0.0  \n",
              "275   0.0   0.0   0.0   0.0   0.0   0.0   0.0   1.0   0.0  \n",
              "276   1.0   0.0   0.0   0.0   0.0   1.0   0.0   0.0   0.0  \n",
              "\n",
              "[277 rows x 1347 columns]"
            ],
            "text/html": [
              "\n",
              "  <div id=\"df-1c304724-d75a-4d87-93a7-bc83b61543f0\">\n",
              "    <div class=\"colab-df-container\">\n",
              "      <div>\n",
              "<style scoped>\n",
              "    .dataframe tbody tr th:only-of-type {\n",
              "        vertical-align: middle;\n",
              "    }\n",
              "\n",
              "    .dataframe tbody tr th {\n",
              "        vertical-align: top;\n",
              "    }\n",
              "\n",
              "    .dataframe thead th {\n",
              "        text-align: right;\n",
              "    }\n",
              "</style>\n",
              "<table border=\"1\" class=\"dataframe\">\n",
              "  <thead>\n",
              "    <tr style=\"text-align: right;\">\n",
              "      <th></th>\n",
              "      <th>0</th>\n",
              "      <th>1</th>\n",
              "      <th>2</th>\n",
              "      <th>3</th>\n",
              "      <th>4</th>\n",
              "      <th>5</th>\n",
              "      <th>6</th>\n",
              "      <th>7</th>\n",
              "      <th>8</th>\n",
              "      <th>9</th>\n",
              "      <th>...</th>\n",
              "      <th>1337</th>\n",
              "      <th>1338</th>\n",
              "      <th>1339</th>\n",
              "      <th>1340</th>\n",
              "      <th>1341</th>\n",
              "      <th>1342</th>\n",
              "      <th>1343</th>\n",
              "      <th>1344</th>\n",
              "      <th>1345</th>\n",
              "      <th>1346</th>\n",
              "    </tr>\n",
              "  </thead>\n",
              "  <tbody>\n",
              "    <tr>\n",
              "      <th>0</th>\n",
              "      <td>1.0</td>\n",
              "      <td>0.0</td>\n",
              "      <td>0.0</td>\n",
              "      <td>0.0</td>\n",
              "      <td>0.0</td>\n",
              "      <td>0.0</td>\n",
              "      <td>0.0</td>\n",
              "      <td>0.0</td>\n",
              "      <td>0.0</td>\n",
              "      <td>0.0</td>\n",
              "      <td>...</td>\n",
              "      <td>0.0</td>\n",
              "      <td>0.0</td>\n",
              "      <td>1.0</td>\n",
              "      <td>0.0</td>\n",
              "      <td>0.0</td>\n",
              "      <td>0.0</td>\n",
              "      <td>0.0</td>\n",
              "      <td>1.0</td>\n",
              "      <td>0.0</td>\n",
              "      <td>0.0</td>\n",
              "    </tr>\n",
              "    <tr>\n",
              "      <th>1</th>\n",
              "      <td>0.0</td>\n",
              "      <td>1.0</td>\n",
              "      <td>0.0</td>\n",
              "      <td>0.0</td>\n",
              "      <td>0.0</td>\n",
              "      <td>0.0</td>\n",
              "      <td>0.0</td>\n",
              "      <td>0.0</td>\n",
              "      <td>0.0</td>\n",
              "      <td>0.0</td>\n",
              "      <td>...</td>\n",
              "      <td>0.0</td>\n",
              "      <td>0.0</td>\n",
              "      <td>0.0</td>\n",
              "      <td>0.0</td>\n",
              "      <td>0.0</td>\n",
              "      <td>1.0</td>\n",
              "      <td>0.0</td>\n",
              "      <td>0.0</td>\n",
              "      <td>0.0</td>\n",
              "      <td>0.0</td>\n",
              "    </tr>\n",
              "    <tr>\n",
              "      <th>2</th>\n",
              "      <td>0.0</td>\n",
              "      <td>0.0</td>\n",
              "      <td>1.0</td>\n",
              "      <td>0.0</td>\n",
              "      <td>0.0</td>\n",
              "      <td>0.0</td>\n",
              "      <td>0.0</td>\n",
              "      <td>0.0</td>\n",
              "      <td>0.0</td>\n",
              "      <td>0.0</td>\n",
              "      <td>...</td>\n",
              "      <td>0.0</td>\n",
              "      <td>1.0</td>\n",
              "      <td>0.0</td>\n",
              "      <td>0.0</td>\n",
              "      <td>0.0</td>\n",
              "      <td>0.0</td>\n",
              "      <td>1.0</td>\n",
              "      <td>0.0</td>\n",
              "      <td>0.0</td>\n",
              "      <td>0.0</td>\n",
              "    </tr>\n",
              "    <tr>\n",
              "      <th>3</th>\n",
              "      <td>0.0</td>\n",
              "      <td>0.0</td>\n",
              "      <td>0.0</td>\n",
              "      <td>1.0</td>\n",
              "      <td>0.0</td>\n",
              "      <td>0.0</td>\n",
              "      <td>0.0</td>\n",
              "      <td>0.0</td>\n",
              "      <td>0.0</td>\n",
              "      <td>0.0</td>\n",
              "      <td>...</td>\n",
              "      <td>1.0</td>\n",
              "      <td>0.0</td>\n",
              "      <td>0.0</td>\n",
              "      <td>0.0</td>\n",
              "      <td>1.0</td>\n",
              "      <td>0.0</td>\n",
              "      <td>0.0</td>\n",
              "      <td>0.0</td>\n",
              "      <td>0.0</td>\n",
              "      <td>0.0</td>\n",
              "    </tr>\n",
              "    <tr>\n",
              "      <th>4</th>\n",
              "      <td>0.0</td>\n",
              "      <td>0.0</td>\n",
              "      <td>0.0</td>\n",
              "      <td>0.0</td>\n",
              "      <td>1.0</td>\n",
              "      <td>0.0</td>\n",
              "      <td>0.0</td>\n",
              "      <td>0.0</td>\n",
              "      <td>0.0</td>\n",
              "      <td>0.0</td>\n",
              "      <td>...</td>\n",
              "      <td>0.0</td>\n",
              "      <td>1.0</td>\n",
              "      <td>0.0</td>\n",
              "      <td>0.0</td>\n",
              "      <td>0.0</td>\n",
              "      <td>0.0</td>\n",
              "      <td>1.0</td>\n",
              "      <td>0.0</td>\n",
              "      <td>0.0</td>\n",
              "      <td>0.0</td>\n",
              "    </tr>\n",
              "    <tr>\n",
              "      <th>...</th>\n",
              "      <td>...</td>\n",
              "      <td>...</td>\n",
              "      <td>...</td>\n",
              "      <td>...</td>\n",
              "      <td>...</td>\n",
              "      <td>...</td>\n",
              "      <td>...</td>\n",
              "      <td>...</td>\n",
              "      <td>...</td>\n",
              "      <td>...</td>\n",
              "      <td>...</td>\n",
              "      <td>...</td>\n",
              "      <td>...</td>\n",
              "      <td>...</td>\n",
              "      <td>...</td>\n",
              "      <td>...</td>\n",
              "      <td>...</td>\n",
              "      <td>...</td>\n",
              "      <td>...</td>\n",
              "      <td>...</td>\n",
              "      <td>...</td>\n",
              "    </tr>\n",
              "    <tr>\n",
              "      <th>272</th>\n",
              "      <td>0.0</td>\n",
              "      <td>0.0</td>\n",
              "      <td>0.0</td>\n",
              "      <td>0.0</td>\n",
              "      <td>0.0</td>\n",
              "      <td>0.0</td>\n",
              "      <td>0.0</td>\n",
              "      <td>0.0</td>\n",
              "      <td>0.0</td>\n",
              "      <td>0.0</td>\n",
              "      <td>...</td>\n",
              "      <td>1.0</td>\n",
              "      <td>0.0</td>\n",
              "      <td>0.0</td>\n",
              "      <td>0.0</td>\n",
              "      <td>1.0</td>\n",
              "      <td>0.0</td>\n",
              "      <td>0.0</td>\n",
              "      <td>0.0</td>\n",
              "      <td>0.0</td>\n",
              "      <td>0.0</td>\n",
              "    </tr>\n",
              "    <tr>\n",
              "      <th>273</th>\n",
              "      <td>0.0</td>\n",
              "      <td>0.0</td>\n",
              "      <td>0.0</td>\n",
              "      <td>0.0</td>\n",
              "      <td>0.0</td>\n",
              "      <td>0.0</td>\n",
              "      <td>0.0</td>\n",
              "      <td>0.0</td>\n",
              "      <td>0.0</td>\n",
              "      <td>0.0</td>\n",
              "      <td>...</td>\n",
              "      <td>1.0</td>\n",
              "      <td>0.0</td>\n",
              "      <td>0.0</td>\n",
              "      <td>0.0</td>\n",
              "      <td>1.0</td>\n",
              "      <td>0.0</td>\n",
              "      <td>0.0</td>\n",
              "      <td>0.0</td>\n",
              "      <td>0.0</td>\n",
              "      <td>0.0</td>\n",
              "    </tr>\n",
              "    <tr>\n",
              "      <th>274</th>\n",
              "      <td>0.0</td>\n",
              "      <td>0.0</td>\n",
              "      <td>0.0</td>\n",
              "      <td>0.0</td>\n",
              "      <td>0.0</td>\n",
              "      <td>0.0</td>\n",
              "      <td>0.0</td>\n",
              "      <td>0.0</td>\n",
              "      <td>0.0</td>\n",
              "      <td>0.0</td>\n",
              "      <td>...</td>\n",
              "      <td>1.0</td>\n",
              "      <td>0.0</td>\n",
              "      <td>0.0</td>\n",
              "      <td>0.0</td>\n",
              "      <td>1.0</td>\n",
              "      <td>0.0</td>\n",
              "      <td>0.0</td>\n",
              "      <td>0.0</td>\n",
              "      <td>0.0</td>\n",
              "      <td>0.0</td>\n",
              "    </tr>\n",
              "    <tr>\n",
              "      <th>275</th>\n",
              "      <td>0.0</td>\n",
              "      <td>0.0</td>\n",
              "      <td>0.0</td>\n",
              "      <td>0.0</td>\n",
              "      <td>0.0</td>\n",
              "      <td>0.0</td>\n",
              "      <td>0.0</td>\n",
              "      <td>0.0</td>\n",
              "      <td>0.0</td>\n",
              "      <td>0.0</td>\n",
              "      <td>...</td>\n",
              "      <td>0.0</td>\n",
              "      <td>0.0</td>\n",
              "      <td>0.0</td>\n",
              "      <td>0.0</td>\n",
              "      <td>0.0</td>\n",
              "      <td>0.0</td>\n",
              "      <td>0.0</td>\n",
              "      <td>0.0</td>\n",
              "      <td>1.0</td>\n",
              "      <td>0.0</td>\n",
              "    </tr>\n",
              "    <tr>\n",
              "      <th>276</th>\n",
              "      <td>0.0</td>\n",
              "      <td>0.0</td>\n",
              "      <td>0.0</td>\n",
              "      <td>0.0</td>\n",
              "      <td>0.0</td>\n",
              "      <td>0.0</td>\n",
              "      <td>0.0</td>\n",
              "      <td>0.0</td>\n",
              "      <td>0.0</td>\n",
              "      <td>0.0</td>\n",
              "      <td>...</td>\n",
              "      <td>0.0</td>\n",
              "      <td>1.0</td>\n",
              "      <td>0.0</td>\n",
              "      <td>0.0</td>\n",
              "      <td>0.0</td>\n",
              "      <td>0.0</td>\n",
              "      <td>1.0</td>\n",
              "      <td>0.0</td>\n",
              "      <td>0.0</td>\n",
              "      <td>0.0</td>\n",
              "    </tr>\n",
              "  </tbody>\n",
              "</table>\n",
              "<p>277 rows × 1347 columns</p>\n",
              "</div>\n",
              "      <button class=\"colab-df-convert\" onclick=\"convertToInteractive('df-1c304724-d75a-4d87-93a7-bc83b61543f0')\"\n",
              "              title=\"Convert this dataframe to an interactive table.\"\n",
              "              style=\"display:none;\">\n",
              "        \n",
              "  <svg xmlns=\"http://www.w3.org/2000/svg\" height=\"24px\"viewBox=\"0 0 24 24\"\n",
              "       width=\"24px\">\n",
              "    <path d=\"M0 0h24v24H0V0z\" fill=\"none\"/>\n",
              "    <path d=\"M18.56 5.44l.94 2.06.94-2.06 2.06-.94-2.06-.94-.94-2.06-.94 2.06-2.06.94zm-11 1L8.5 8.5l.94-2.06 2.06-.94-2.06-.94L8.5 2.5l-.94 2.06-2.06.94zm10 10l.94 2.06.94-2.06 2.06-.94-2.06-.94-.94-2.06-.94 2.06-2.06.94z\"/><path d=\"M17.41 7.96l-1.37-1.37c-.4-.4-.92-.59-1.43-.59-.52 0-1.04.2-1.43.59L10.3 9.45l-7.72 7.72c-.78.78-.78 2.05 0 2.83L4 21.41c.39.39.9.59 1.41.59.51 0 1.02-.2 1.41-.59l7.78-7.78 2.81-2.81c.8-.78.8-2.07 0-2.86zM5.41 20L4 18.59l7.72-7.72 1.47 1.35L5.41 20z\"/>\n",
              "  </svg>\n",
              "      </button>\n",
              "      \n",
              "  <style>\n",
              "    .colab-df-container {\n",
              "      display:flex;\n",
              "      flex-wrap:wrap;\n",
              "      gap: 12px;\n",
              "    }\n",
              "\n",
              "    .colab-df-convert {\n",
              "      background-color: #E8F0FE;\n",
              "      border: none;\n",
              "      border-radius: 50%;\n",
              "      cursor: pointer;\n",
              "      display: none;\n",
              "      fill: #1967D2;\n",
              "      height: 32px;\n",
              "      padding: 0 0 0 0;\n",
              "      width: 32px;\n",
              "    }\n",
              "\n",
              "    .colab-df-convert:hover {\n",
              "      background-color: #E2EBFA;\n",
              "      box-shadow: 0px 1px 2px rgba(60, 64, 67, 0.3), 0px 1px 3px 1px rgba(60, 64, 67, 0.15);\n",
              "      fill: #174EA6;\n",
              "    }\n",
              "\n",
              "    [theme=dark] .colab-df-convert {\n",
              "      background-color: #3B4455;\n",
              "      fill: #D2E3FC;\n",
              "    }\n",
              "\n",
              "    [theme=dark] .colab-df-convert:hover {\n",
              "      background-color: #434B5C;\n",
              "      box-shadow: 0px 1px 3px 1px rgba(0, 0, 0, 0.15);\n",
              "      filter: drop-shadow(0px 1px 2px rgba(0, 0, 0, 0.3));\n",
              "      fill: #FFFFFF;\n",
              "    }\n",
              "  </style>\n",
              "\n",
              "      <script>\n",
              "        const buttonEl =\n",
              "          document.querySelector('#df-1c304724-d75a-4d87-93a7-bc83b61543f0 button.colab-df-convert');\n",
              "        buttonEl.style.display =\n",
              "          google.colab.kernel.accessAllowed ? 'block' : 'none';\n",
              "\n",
              "        async function convertToInteractive(key) {\n",
              "          const element = document.querySelector('#df-1c304724-d75a-4d87-93a7-bc83b61543f0');\n",
              "          const dataTable =\n",
              "            await google.colab.kernel.invokeFunction('convertToInteractive',\n",
              "                                                     [key], {});\n",
              "          if (!dataTable) return;\n",
              "\n",
              "          const docLinkHtml = 'Like what you see? Visit the ' +\n",
              "            '<a target=\"_blank\" href=https://colab.research.google.com/notebooks/data_table.ipynb>data table notebook</a>'\n",
              "            + ' to learn more about interactive tables.';\n",
              "          element.innerHTML = '';\n",
              "          dataTable['output_type'] = 'display_data';\n",
              "          await google.colab.output.renderOutput(dataTable, element);\n",
              "          const docLink = document.createElement('div');\n",
              "          docLink.innerHTML = docLinkHtml;\n",
              "          element.appendChild(docLink);\n",
              "        }\n",
              "      </script>\n",
              "    </div>\n",
              "  </div>\n",
              "  "
            ]
          },
          "metadata": {},
          "execution_count": 19
        },
        {
          "output_type": "stream",
          "name": "stdout",
          "text": [
            "Warning: Total number of columns (1347) exceeds max_columns (20) limiting to first (20) columns.\n"
          ]
        }
      ]
    },
    {
      "cell_type": "code",
      "source": [
        "enc_df.to_csv('dogsencoded.csv')"
      ],
      "metadata": {
        "id": "pPC2wVJcyidx"
      },
      "execution_count": 20,
      "outputs": []
    },
    {
      "cell_type": "code",
      "source": [
        "from sklearn.decomposition import FastICA\n",
        "import matplotlib.pyplot as plt\n",
        "\n",
        "transformer = FastICA(n_components=2, random_state=0)\n",
        "X_transformedica = transformer.fit_transform(enc_df)\n",
        "\n",
        "plot = plt.scatter(X_transformedica[:,0], X_transformedica[:,1])"
      ],
      "metadata": {
        "colab": {
          "base_uri": "https://localhost:8080/",
          "height": 265
        },
        "id": "LrP9eAc0iAOM",
        "outputId": "1692dfb9-d0ae-4ba6-e681-6a97a2c51657"
      },
      "execution_count": 21,
      "outputs": [
        {
          "output_type": "display_data",
          "data": {
            "text/plain": [
              "<Figure size 432x288 with 1 Axes>"
            ],
            "image/png": "[encoded data removed]"
          },
          "metadata": {
            "needs_background": "light"
          }
        }
      ]
    },
    {
      "cell_type": "code",
      "source": [
        "pd.options.plotting.backend = \"plotly\"\n",
        "figplotly1 = plot.scatter(X_transformedica[:,0], y=X_transformedica[:,1],text=dog[\"Unnamed: 0\"])\n",
        "figplotly1.show()\n",
        "#st.plotly_chart(figplotly1, use_container_width=True)"
      ],
      "metadata": {
        "colab": {
          "base_uri": "https://localhost:8080/",
          "height": 224
        },
        "id": "hXnDevbBJA_Q",
        "outputId": "3c4616cd-508f-4bb5-9fc7-db02f6c3bc64"
      },
      "execution_count": 26,
      "outputs": [
        {
          "output_type": "error",
          "ename": "AttributeError",
          "evalue": "ignored",
          "traceback": [
            "\u001b[0;31m---------------------------------------------------------------------------\u001b[0m",
            "\u001b[0;31mAttributeError\u001b[0m                            Traceback (most recent call last)",
            "\u001b[0;32m<ipython-input-26-2615110c9467>\u001b[0m in \u001b[0;36m<module>\u001b[0;34m()\u001b[0m\n\u001b[1;32m      1\u001b[0m \u001b[0mpd\u001b[0m\u001b[0;34m.\u001b[0m\u001b[0moptions\u001b[0m\u001b[0;34m.\u001b[0m\u001b[0mplotting\u001b[0m\u001b[0;34m.\u001b[0m\u001b[0mbackend\u001b[0m \u001b[0;34m=\u001b[0m \u001b[0;34m\"plotly\"\u001b[0m\u001b[0;34m\u001b[0m\u001b[0;34m\u001b[0m\u001b[0m\n\u001b[0;32m----> 2\u001b[0;31m \u001b[0mfigplotly1\u001b[0m \u001b[0;34m=\u001b[0m \u001b[0mplot\u001b[0m\u001b[0;34m.\u001b[0m\u001b[0mscatter\u001b[0m\u001b[0;34m(\u001b[0m\u001b[0mX_transformedica\u001b[0m\u001b[0;34m[\u001b[0m\u001b[0;34m:\u001b[0m\u001b[0;34m,\u001b[0m\u001b[0;36m0\u001b[0m\u001b[0;34m]\u001b[0m\u001b[0;34m,\u001b[0m \u001b[0my\u001b[0m\u001b[0;34m=\u001b[0m\u001b[0mX_transformedica\u001b[0m\u001b[0;34m[\u001b[0m\u001b[0;34m:\u001b[0m\u001b[0;34m,\u001b[0m\u001b[0;36m1\u001b[0m\u001b[0;34m]\u001b[0m\u001b[0;34m,\u001b[0m\u001b[0mtext\u001b[0m\u001b[0;34m=\u001b[0m\u001b[0mdog\u001b[0m\u001b[0;34m[\u001b[0m\u001b[0;34m\"Unnamed: 0\"\u001b[0m\u001b[0;34m]\u001b[0m\u001b[0;34m)\u001b[0m\u001b[0;34m\u001b[0m\u001b[0;34m\u001b[0m\u001b[0m\n\u001b[0m\u001b[1;32m      3\u001b[0m \u001b[0mfigplotly1\u001b[0m\u001b[0;34m.\u001b[0m\u001b[0mshow\u001b[0m\u001b[0;34m(\u001b[0m\u001b[0;34m)\u001b[0m\u001b[0;34m\u001b[0m\u001b[0;34m\u001b[0m\u001b[0m\n\u001b[1;32m      4\u001b[0m \u001b[0;31m#st.plotly_chart(figplotly1, use_container_width=True)\u001b[0m\u001b[0;34m\u001b[0m\u001b[0;34m\u001b[0m\u001b[0;34m\u001b[0m\u001b[0m\n",
            "\u001b[0;31mAttributeError\u001b[0m: 'PathCollection' object has no attribute 'scatter'"
          ]
        }
      ]
    },
    {
      "cell_type": "code",
      "source": [
        "import plotly.express as px\n",
        "fig = px.scatter(x=X_transformedica[:,0], y=X_transformedica[:,1],text=dog[\"Unnamed: 0\"])\n",
        "fig.show()"
      ],
      "metadata": {
        "colab": {
          "base_uri": "https://localhost:8080/",
          "height": 542
        },
        "id": "VbJNXi9kJwuV",
        "outputId": "7010c921-950c-4f77-e40f-0aa33a77fa28"
      },
      "execution_count": 28,
      "outputs": [
        {
          "output_type": "display_data",
          "data": {
            "text/html": [
              "<html>\n",
              "<head><meta charset=\"utf-8\" /></head>\n",
              "<body>\n",
              "    <div>            <script src=\"https://cdnjs.cloudflare.com/ajax/libs/mathjax/2.7.5/MathJax.js?config=TeX-AMS-MML_SVG\"></script><script type=\"text/javascript\">if (window.MathJax) {MathJax.Hub.Config({SVG: {font: \"STIX-Web\"}});}</script>                <script type=\"text/javascript\">window.PlotlyConfig = {MathJaxConfig: 'local'};</script>\n",
              "        <script src=\"https://cdn.plot.ly/plotly-2.8.3.min.js\"></script>                <div id=\"29907d11-fb99-4b51-9854-8e2e925c4289\" class=\"plotly-graph-div\" style=\"height:525px; width:100%;\"></div>            <script type=\"text/javascript\">                                    window.PLOTLYENV=window.PLOTLYENV || {};                                    if (document.getElementById(\"29907d11-fb99-4b51-9854-8e2e925c4289\")) {                    Plotly.newPlot(                        \"29907d11-fb99-4b51-9854-8e2e925c4289\",                        [{\"hovertemplate\":\"x=%{x}<br>y=%{y}<br>text=%{text}<extra></extra>\",\"legendgroup\":\"\",\"marker\":{\"color\":\"#636efa\",\"symbol\":\"circle\"},\"mode\":\"markers+text\",\"name\":\"\",\"orientation\":\"v\",\"showlegend\":false,\"text\":[\"Affenpinscher\",\"Afghan Hound\",\"Airedale Terrier\",\"Akita\",\"Alaskan Malamute\",\"American Bulldog\",\"American English Coonhound\",\"American Eskimo Dog\",\"American Foxhound\",\"American Hairless Terrier\",\"American Leopard Hound\",\"American Staffordshire Terrier\",\"American Water Spaniel\",\"Anatolian Shepherd Dog\",\"Appenzeller Sennenhund\",\"Australian Cattle Dog\",\"Australian Kelpie\",\"Australian Shepherd\",\"Australian Stumpy Tail Cattle Dog\",\"Australian Terrier\",\"Azawakh\",\"Barbet\",\"Basenji\",\"Basset Fauve de Bretagne\",\"Basset Hound\",\"Bavarian Mountain Scent Hound\",\"Beagle\",\"Bearded Collie\",\"Beauceron\",\"Bedlington Terrier\",\"Belgian Laekenois\",\"Belgian Malinois\",\"Belgian Sheepdog\",\"Belgian Tervuren\",\"Bergamasco Sheepdog\",\"Berger Picard\",\"Bernese Mountain Dog\",\"Bichon Frise\",\"Biewer Terrier\",\"Black and Tan Coonhound\",\"Black Russian Terrier\",\"Bloodhound\",\"Bluetick Coonhound\",\"Boerboel\",\"Bohemian Shepherd\",\"Bolognese\",\"Border Collie\",\"Border Terrier\",\"Borzoi\",\"Boston Terrier\",\"Bouvier des Flandres\",\"Boxer\",\"Boykin Spaniel\",\"Bracco Italiano\",\"Braque du Bourbonnais\",\"Braque Francais Pyrenean\",\"Briard\",\"Brittany\",\"Broholmer\",\"Brussels Griffon\",\"Bull Terrier\",\"Bulldog\",\"Bullmastiff\",\"Cairn Terrier\",\"Canaan Dog\",\"Cane Corso\",\"Cardigan Welsh Corgi\",\"Carolina Dog\",\"Catahoula Leopard Dog\",\"Caucasian Shepherd Dog\",\"Cavalier King Charles Spaniel\",\"Central Asian Shepherd Dog\",\"Cesky Terrier\",\"Chesapeake Bay Retriever\",\"Chihuahua\",\"Chinese Crested\",\"Chinese Shar-Pei\",\"Chinook\",\"Chow Chow\",\"Cirneco dell\\u2019Etna\",\"Clumber Spaniel\",\"Cocker Spaniel\",\"Collie\",\"Coton de Tulear\",\"Croatian Sheepdog\",\"Curly-Coated Retriever\",\"Czechoslovakian Vlcak\",\"Dachshund\",\"Dalmatian\",\"Dandie Dinmont Terrier\",\"Danish-Swedish Farmdog\",\"Deutscher Wachtelhund\",\"Doberman Pinscher\",\"Dogo Argentino\",\"Dogue de Bordeaux\",\"Drentsche Patrijshond\",\"Drever\",\"Dutch Shepherd\",\"English Cocker Spaniel\",\"English Foxhound\",\"English Setter\",\"English Springer Spaniel\",\"English Toy Spaniel\",\"Entlebucher Mountain Dog\",\"Estrela Mountain Dog\",\"Eurasier\",\"Field Spaniel\",\"Finnish Lapphund\",\"Finnish Spitz\",\"Flat-Coated Retriever\",\"French Bulldog\",\"French Spaniel\",\"German Longhaired Pointer\",\"German Pinscher\",\"German Shepherd Dog\",\"German Shorthaired Pointer\",\"German Spitz\",\"German Wirehaired Pointer\",\"Giant Schnauzer\",\"Glen of Imaal Terrier\",\"Golden Retriever\",\"Gordon Setter\",\"Grand Basset Griffon Vend\\u00e9en\",\"Great Dane\",\"Great Pyrenees\",\"Greater Swiss Mountain Dog\",\"Greyhound\",\"Hamiltonstovare\",\"Hanoverian Scenthound\",\"Harrier\",\"Havanese\",\"Hokkaido\",\"Hovawart\",\"Ibizan Hound\",\"Icelandic Sheepdog\",\"Irish Red and White Setter\",\"Irish Setter\",\"Irish Terrier\",\"Irish Water Spaniel\",\"Irish Wolfhound\",\"Italian Greyhound\",\"Jagdterrier\",\"Japanese Chin\",\"Japanese Spitz\",\"Jindo\",\"Kai Ken\",\"Karelian Bear Dog\",\"Keeshond\",\"Kerry Blue Terrier\",\"Kishu Ken\",\"Komondor\",\"Kromfohrlander\",\"Kuvasz\",\"Labrador Retriever\",\"Lagotto Romagnolo\",\"Lakeland Terrier\",\"Lancashire Heeler\",\"Lapponian Herder\",\"Leonberger\",\"Lhasa Apso\",\"L\\u00f6wchen\",\"Maltese\",\"Manchester Terrier (Standard)\",\"Manchester Terrier (Toy)\",\"Mastiff\",\"Miniature American Shepherd\",\"Miniature Bull Terrier\",\"Miniature Pinscher\",\"Miniature Schnauzer\",\"Mountain Cur\",\"Mudi\",\"Neapolitan Mastiff\",\"Nederlandse Kooikerhondje\",\"Newfoundland\",\"Norfolk Terrier\",\"Norrbottenspets\",\"Norwegian Buhund\",\"Norwegian Elkhound\",\"Norwegian Lundehund\",\"Norwich Terrier\",\"Nova Scotia Duck Tolling Retriever\",\"Old English Sheepdog\",\"Otterhound\",\"Papillon\",\"Parson Russell Terrier\",\"Pekingese\",\"Pembroke Welsh Corgi\",\"Perro de Presa Canario\",\"Peruvian Inca Orchid\",\"Petit Basset Griffon Vend\\u00e9en\",\"Pharaoh Hound\",\"Plott Hound\",\"Pointer\",\"Polish Lowland Sheepdog\",\"Pomeranian\",\"Poodle (Miniature)\",\"Poodle (Standard)\",\"Poodle (Toy)\",\"Porcelaine\",\"Portuguese Podengo\",\"Portuguese Podengo Pequeno\",\"Portuguese Pointer\",\"Portuguese Sheepdog\",\"Portuguese Water Dog\",\"Pudelpointer\",\"Pug\",\"Puli\",\"Pumi\",\"Pyrenean Mastiff\",\"Pyrenean Shepherd\",\"Rafeiro do Alentejo\",\"Rat Terrier\",\"Redbone Coonhound\",\"Rhodesian Ridgeback\",\"Romanian Mioritic Shepherd Dog\",\"Rottweiler\",\"Russell Terrier\",\"Russian Toy\",\"Russian Tsvetnaya Bolonka\",\"Saint Bernard\",\"Saluki\",\"Samoyed\",\"Schapendoes\",\"Schipperke\",\"Scottish Deerhound\",\"Scottish Terrier\",\"Sealyham Terrier\",\"Segugio Italiano\",\"Shetland Sheepdog\",\"Shiba Inu\",\"Shih Tzu\",\"Shikoku\",\"Siberian Husky\",\"Silky Terrier\",\"Skye Terrier\",\"Sloughi\",\"Slovakian Wirehaired Pointer\",\"Slovensky Cuvac\",\"Slovensky Kopov\",\"Small Munsterlander Pointer\",\"Smooth Fox Terrier\",\"Soft Coated Wheaten Terrier\",\"Spanish Mastiff\",\"Spanish Water Dog\",\"Spinone Italiano\",\"Stabyhoun\",\"Staffordshire Bull Terrier\",\"Standard Schnauzer\",\"Sussex Spaniel\",\"Swedish Lapphund\",\"Swedish Vallhund\",\"Taiwan Dog\",\"Teddy Roosevelt Terrier\",\"Thai Ridgeback\",\"Tibetan Mastiff\",\"Tibetan Spaniel\",\"Tibetan Terrier\",\"Tornjak\",\"Tosa\",\"Toy Fox Terrier\",\"Transylvanian Hound\",\"Treeing Tennessee Brindle\",\"Treeing Walker Coonhound\",\"Vizsla\",\"Weimaraner\",\"Welsh Springer Spaniel\",\"Welsh Terrier\",\"West Highland White Terrier\",\"Wetterhoun\",\"Whippet\",\"Wire Fox Terrier\",\"Wirehaired Pointing Griffon\",\"Wirehaired Vizsla\",\"Working Kelpie\",\"Xoloitzcuintli\",\"Yakutian Laika\",\"Yorkshire Terrier\"],\"x\":[-0.07373623261801139,0.011710356752805712,-0.08466181914243455,0.05929886865271646,0.04330497550710595,0.08232322821361326,0.03216059028930847,0.047112669666272894,0.07377327912834149,0.01629783522280113,0.08286587925159784,-0.08138881375110493,-0.09928753699451989,-0.015551830968952924,0.04137668131156452,0.023851680650162983,0.07451476035170777,0.059759033701634344,0.05206601055174726,-0.006683789271941219,-0.07522827696881622,-0.08223780019568329,0.04099059521662006,-0.00918667618658258,-0.0329002351615577,-0.038019026401870805,0.018789595099932426,-0.04000233423933226,0.009876914824373619,-0.0018411863697304271,0.08188693270095285,0.08522974676123725,0.06647870834761102,0.06647870834761102,-0.016560512212895884,0.0464978488054956,0.03469365896757236,-0.11406118419685383,-0.006994986919405994,-0.031819818941006904,0.06923887246909677,-0.031029486558476007,0.06174329046169294,0.005088712595084893,-0.04113119738012477,-0.02616444723193239,0.01730044263896621,-0.07792952611876774,0.06586485102930222,-0.07248144362172877,0.044319396428573035,0.047058273081637535,-0.0659247055961765,0.06246645196723604,-0.024957358204837753,0.0905123337102157,-0.07234246628238332,0.009087119896557269,0.07971193870840189,-0.09135965867979606,0.06163159415240134,-0.09707032283586203,0.053293963788854176,-0.09612181934949336,-0.04850225389544522,0.02578221702358263,0.043339797568659966,-0.008097123871075251,0.04799422827908042,0.013185695497176736,-0.021596703396454902,0.056927612673627115,-0.08144529417664102,0.03389521977593057,-0.0765732071866359,-0.10145655315731653,-0.035680564107236856,0.05904652907171037,-0.04080991252307057,-0.08452254327455566,-0.04653085124530992,-0.06958540953089742,-0.043562205849124416,-0.08269959893341648,0.040568180232686935,0.04861128529991153,0.03924851585372461,-0.08096556893711836,0.04154353169192566,-0.09742324021117459,0.09317434568462139,0.00579428951737724,0.01866359650239984,0.015444196145659644,-0.062324992536824206,0.07620275339643356,-0.050727423093538795,0.044909548578144706,-0.08915306346271269,0.04148784983187409,0.02594924762110172,-0.05904728190631741,-0.07074768274607637,0.014476206402446646,0.08782555975502364,-0.03299332031812301,-0.049393844725337026,-0.027642385493066957,0.010602175200773369,0.01306538475176219,-0.004195609128234487,0.060622194513232065,0.0739627956937805,-0.004791168030106398,-0.04803593949475868,0.02252254459690762,-0.03653844817752721,0.02643283939289196,-0.0009983174993924912,-0.1027641365521737,0.04146999425690493,0.05226129696845799,0.018361811327322907,0.05209347125947277,0.047076928812284494,0.052623468230023666,0.03816718262264231,0.037553282729168,-0.035340753256449794,0.004942491954303094,-0.09402598794322195,0.10937838253060098,0.011623665978416367,0.020769195707062926,0.0642664967778198,0.01765676880729421,-0.006665534310175668,-0.08115867796820847,0.06115766710386836,-0.038001083632434395,-0.04736124649615874,0.05245467147208563,-0.031971311219324366,-0.039112491292276584,0.09919367854953379,0.08510397478625821,0.09293944477585615,-0.06560624445348905,-0.09274744315985178,0.10815744585610951,-0.03477886157611142,-0.06798464976488926,-0.04164839070453783,0.02020310727862497,-0.07719093069802925,-0.1038941382639052,0.06902093180280139,0.009328810730359105,-0.06910025733539973,-0.1082545123003537,-0.09928297525422096,-0.11772136110791472,-0.07129031622811116,-0.07168785442989288,-0.07510987215465834,0.03127383811063685,0.028530650610962174,-0.09317713922726256,-0.10731691037175821,0.08343531456504147,0.02983047455948936,-0.02491344187085485,-0.02993362359920351,-0.028091010090284883,-0.06238967968280352,0.07703879028540028,0.05945697840038599,-0.052883397393288345,0.0503828573986105,0.027992050934957272,0.03955630181134216,-0.050109401150300076,-0.023705367543150065,-0.045548330478278116,-0.02660942496119537,0.010713759500106152,0.03621881231245683,0.08694576776499846,0.05992909451549912,0.02622648419590329,0.08164097880163358,0.039482335241710194,0.026139596064097454,0.062468397530128277,-0.08068048048951451,0.017419821360313375,-0.09572530485875848,-0.10342124996287635,0.08823252170270919,0.06198944216399807,0.04099615928141519,0.06046482988511139,0.09135222800038113,0.06767960645560503,0.0314909114367883,-0.08860971363166405,-0.0860693656449258,0.030792819965004402,0.0656853478838225,0.06457272571112505,0.08492710017876604,-0.04396281735625274,-0.03173478914190106,-0.034630265944544415,-0.033335194139835406,-0.02894301575654942,-0.015765715260241567,-0.07273748856171272,-0.09769803457010263,-0.04680356150925558,0.0479054998882137,0.03952461517138011,-0.011419954245095258,0.05393975819793738,-0.035764941372335934,-0.10239403264870812,-0.06628905245870478,0.0807058609016721,-0.0426059752934719,-0.03371723398637818,-0.10909823686740319,0.006661852522329993,0.06576502185212796,-0.12209426168468614,-0.04655018937066369,-0.07121404815942935,0.04678016165172882,0.07038457460517931,0.025623964770275613,0.05157408787807189,-0.0002929664706046159,-0.009189942726059218,0.0780125549161434,0.022168946995908052,0.03957174660709357,0.08547983627898512,0.027572236956941536,-0.10890742727423544,-0.061628896146553896,-0.005215059060533154,0.025152515955733205,0.08010072267951474,0.0678331995027808,0.10293412679210714,-0.05429688912310268,0.0005302567341613675,0.03865864356394435,0.030130243470446627,0.02910959648126164,0.012751340188452823,0.06773297360556013,-0.00399251797853191,-0.02961246412505497,0.07216398725597632,0.04381771239241034,0.03943945870970242,-0.021017209319132587,-0.0796402415372275,-0.020387773516441384,-0.062299785880391395,-0.10603670248684997,0.0167575115737548,0.06089292961960064,0.0803344971943294,0.00232939141445457,0.10803270894642886,-0.10510228768586614],\"xaxis\":\"x\",\"y\":[-0.022476836840272768,0.005725353018744473,-0.01042861274103031,0.0093291350192312,-0.02284197835061383,0.07715037359942364,0.0834795346990938,-0.0758994734761242,0.011593835760352052,0.044933795065074104,-0.053992929779070435,0.07710789936179412,-0.01751232332245995,-0.024151636389499746,-0.02410814670412397,0.054090268700403926,-0.0028169399581623447,-0.06543633129037565,-0.012717198025670192,-0.08013447884932598,-0.05708120042142913,-0.07692264299858284,0.08917138467516526,-0.032889153249478005,0.0011057408896717968,-0.022121132907301118,-0.054297834708323084,-0.00020039607728940023,0.026195715357104632,0.03306374686113021,-0.016945104453486803,-0.05696292648767398,-0.018288475057897626,-0.01828847505789763,0.07110760274719384,0.03471036089177215,0.0190438344972614,0.01569617820404664,0.03079490852457287,-0.062503549600962,0.001385945586015649,-0.010165056730516835,-0.10051240487502693,0.08478121896682066,0.090862752836,0.0007820867586008486,-0.02534078183615105,-0.0794683803974596,-0.027864958965116732,-0.029886439457964518,0.014614732781594328,-0.02705253798284667,0.0007780424752518173,0.08662862167420297,0.10451622571132363,0.07410936626489836,0.04280675606746226,-0.06714586467667194,0.08353996285993492,-0.05435528048918399,-0.09288332683447315,-0.018002589495430824,0.04838025952504956,-0.06663301560194805,-0.026533315497527125,0.08630932049026578,-0.06375201855485872,0.07430323289004749,0.06600279863790699,0.06971570656706144,-0.07754217753204135,0.0852438735575401,-0.03252089868452846,0.016104896769614036,0.10975775260378785,0.032788138956948425,0.079219503663579,-0.11891026688897789,0.014025116518728278,0.07526181440724833,-0.02198729859035782,0.018576098531137238,-0.05056042353179872,0.026053782315797868,0.08636221959524452,0.09150209562820871,-0.016289931705020563,-0.012503003023377495,-0.023931612677633073,0.03135762249681834,0.10624313534041073,0.004289600676929046,0.07489654131306929,0.07612141810086766,0.08217856201697078,-0.015895000595875883,0.10703927620918716,-0.03565695671349915,-0.026433150592339985,0.022824391892813375,-0.04247527996555537,-0.07602847592268072,0.040313987738479884,0.08777521065963251,-0.005912368459401797,0.016318738640718648,-0.04009193097443662,-0.06720954400003758,-0.10654041648551137,-0.0891446594340451,0.08982901710155697,0.07400254530314229,0.02445892594987094,0.06922421670332149,-0.021162268268007284,-0.08415291188169764,0.012744343840563199,-0.04377774288544978,0.013713796306129847,0.06267616253261349,-0.10080465569071406,-0.05266072257910947,-0.08961987062184064,0.04902434628596211,-0.02715098901771943,-0.04391473397157059,0.05030715487156676,0.04420739661857048,0.11740034985268663,-0.085860678944744,0.027878731998131113,-0.03849248423530145,0.07975094721890089,0.08728585718670774,-0.11776055478571237,-0.08534384857643516,-0.03684405130682608,0.07331931930667358,-0.07423377445935343,-0.01810931635876657,0.04920602836797657,0.07396992365335442,-0.021160218254923376,-0.05161833287311457,-0.016219976691892953,0.05770226963998679,0.0869690386479939,-0.05964412594358126,0.03213866109732005,0.07967450415677985,0.03429638277999167,0.0377401642911055,0.002032422130643763,-0.04771029347431905,0.07760253807043511,-0.028389197210831944,-0.01893244058940732,-0.02745923844474881,-0.02063672656068148,0.03205922135718572,0.06047538630593134,0.006643291178886358,-0.005252877299357626,-0.006793884190149045,0.09148037897564909,-0.04349045318352758,0.0995819376005258,0.09228102417675886,0.018417642966529566,0.07467042453198361,0.06573847127039366,-0.04295537150968811,-0.07551314008596643,-0.08985428397500943,-0.10162889948004383,-0.0014085957480584755,-0.11766205239836482,-0.10825935097060495,-0.0755728935265258,-0.1196667501321061,-0.11802203886968932,0.039869823597303504,-0.022509124150107123,-0.06025710468699019,-0.07553624366067202,0.006613626677466933,-0.0552811884036161,0.08610081683180991,0.05841798825207414,-0.06050373846151534,-0.05212162976782627,0.0880978669842692,-0.02666540184065843,-0.016067900719136195,0.006915427144029123,0.04802244719654787,-0.01244873448793722,-0.011799320203412933,0.10095014394536204,-0.015089560083028357,-0.11927140305331795,0.040618684673065404,0.003770424391448181,0.006747938698304468,0.07700187985216138,-0.07659058698897636,0.048376590991823634,0.06495736944661376,0.04917683940365628,-0.05904657016794736,-0.02023282739487362,-0.10579934941518321,-0.1152183782966066,-0.015029714983322926,0.007289137530235208,-0.045585583113661274,-0.08093695341211722,-0.06286935158348966,2.7989033544027713e-05,-0.08828940688768253,0.09560814758923926,-0.03793651144182915,-0.035259747776717094,-0.039215244143712566,0.07694198076996393,0.05676015036846637,0.02156070590966759,-0.026091569435124286,-0.012847143379883111,-0.02603261364708593,-0.00676267879603112,0.020520313320443146,-0.08938487077038135,0.04044050445547637,0.007401492929118135,-0.004043561562719193,0.0825845357800479,0.017754720686397975,0.0743671757807781,0.005361459955514847,-0.08744884625688491,0.04046860137281506,0.05329203835079907,0.007590626772481773,-0.01750635911948689,0.05919234472655212,-0.0707400066975865,0.011479397212214101,0.00813941642305662,-0.017081299725688726,-0.03002318303226064,-0.03510605491775584,-0.09511348759206376,0.06592425614641385,0.04292165442382478,-0.053265772665522945,0.015247168020840644,0.05205045398935859,0.11149852335977208,-0.07788805985850215,0.0021760021712656894,0.029057926445709946,0.010745301445769387,-0.12090236869357572,-0.10199100359837722,-0.09804405985882934,-0.001252933790314588,-0.04993831420283547,0.11119935281883891,0.08042676438413239,-0.02980604259286114,-0.07024932741950317,0.031052744254147117,0.06912831588282878,0.07477269003691113,-0.020124397137387198,-0.008000639516409943],\"yaxis\":\"y\",\"type\":\"scatter\"}],                        {\"template\":{\"data\":{\"bar\":[{\"error_x\":{\"color\":\"#2a3f5f\"},\"error_y\":{\"color\":\"#2a3f5f\"},\"marker\":{\"line\":{\"color\":\"#E5ECF6\",\"width\":0.5},\"pattern\":{\"fillmode\":\"overlay\",\"size\":10,\"solidity\":0.2}},\"type\":\"bar\"}],\"barpolar\":[{\"marker\":{\"line\":{\"color\":\"#E5ECF6\",\"width\":0.5},\"pattern\":{\"fillmode\":\"overlay\",\"size\":10,\"solidity\":0.2}},\"type\":\"barpolar\"}],\"carpet\":[{\"aaxis\":{\"endlinecolor\":\"#2a3f5f\",\"gridcolor\":\"white\",\"linecolor\":\"white\",\"minorgridcolor\":\"white\",\"startlinecolor\":\"#2a3f5f\"},\"baxis\":{\"endlinecolor\":\"#2a3f5f\",\"gridcolor\":\"white\",\"linecolor\":\"white\",\"minorgridcolor\":\"white\",\"startlinecolor\":\"#2a3f5f\"},\"type\":\"carpet\"}],\"choropleth\":[{\"colorbar\":{\"outlinewidth\":0,\"ticks\":\"\"},\"type\":\"choropleth\"}],\"contour\":[{\"colorbar\":{\"outlinewidth\":0,\"ticks\":\"\"},\"colorscale\":[[0.0,\"#0d0887\"],[0.1111111111111111,\"#46039f\"],[0.2222222222222222,\"#7201a8\"],[0.3333333333333333,\"#9c179e\"],[0.4444444444444444,\"#bd3786\"],[0.5555555555555556,\"#d8576b\"],[0.6666666666666666,\"#ed7953\"],[0.7777777777777778,\"#fb9f3a\"],[0.8888888888888888,\"#fdca26\"],[1.0,\"#f0f921\"]],\"type\":\"contour\"}],\"contourcarpet\":[{\"colorbar\":{\"outlinewidth\":0,\"ticks\":\"\"},\"type\":\"contourcarpet\"}],\"heatmap\":[{\"colorbar\":{\"outlinewidth\":0,\"ticks\":\"\"},\"colorscale\":[[0.0,\"#0d0887\"],[0.1111111111111111,\"#46039f\"],[0.2222222222222222,\"#7201a8\"],[0.3333333333333333,\"#9c179e\"],[0.4444444444444444,\"#bd3786\"],[0.5555555555555556,\"#d8576b\"],[0.6666666666666666,\"#ed7953\"],[0.7777777777777778,\"#fb9f3a\"],[0.8888888888888888,\"#fdca26\"],[1.0,\"#f0f921\"]],\"type\":\"heatmap\"}],\"heatmapgl\":[{\"colorbar\":{\"outlinewidth\":0,\"ticks\":\"\"},\"colorscale\":[[0.0,\"#0d0887\"],[0.1111111111111111,\"#46039f\"],[0.2222222222222222,\"#7201a8\"],[0.3333333333333333,\"#9c179e\"],[0.4444444444444444,\"#bd3786\"],[0.5555555555555556,\"#d8576b\"],[0.6666666666666666,\"#ed7953\"],[0.7777777777777778,\"#fb9f3a\"],[0.8888888888888888,\"#fdca26\"],[1.0,\"#f0f921\"]],\"type\":\"heatmapgl\"}],\"histogram\":[{\"marker\":{\"pattern\":{\"fillmode\":\"overlay\",\"size\":10,\"solidity\":0.2}},\"type\":\"histogram\"}],\"histogram2d\":[{\"colorbar\":{\"outlinewidth\":0,\"ticks\":\"\"},\"colorscale\":[[0.0,\"#0d0887\"],[0.1111111111111111,\"#46039f\"],[0.2222222222222222,\"#7201a8\"],[0.3333333333333333,\"#9c179e\"],[0.4444444444444444,\"#bd3786\"],[0.5555555555555556,\"#d8576b\"],[0.6666666666666666,\"#ed7953\"],[0.7777777777777778,\"#fb9f3a\"],[0.8888888888888888,\"#fdca26\"],[1.0,\"#f0f921\"]],\"type\":\"histogram2d\"}],\"histogram2dcontour\":[{\"colorbar\":{\"outlinewidth\":0,\"ticks\":\"\"},\"colorscale\":[[0.0,\"#0d0887\"],[0.1111111111111111,\"#46039f\"],[0.2222222222222222,\"#7201a8\"],[0.3333333333333333,\"#9c179e\"],[0.4444444444444444,\"#bd3786\"],[0.5555555555555556,\"#d8576b\"],[0.6666666666666666,\"#ed7953\"],[0.7777777777777778,\"#fb9f3a\"],[0.8888888888888888,\"#fdca26\"],[1.0,\"#f0f921\"]],\"type\":\"histogram2dcontour\"}],\"mesh3d\":[{\"colorbar\":{\"outlinewidth\":0,\"ticks\":\"\"},\"type\":\"mesh3d\"}],\"parcoords\":[{\"line\":{\"colorbar\":{\"outlinewidth\":0,\"ticks\":\"\"}},\"type\":\"parcoords\"}],\"pie\":[{\"automargin\":true,\"type\":\"pie\"}],\"scatter\":[{\"marker\":{\"colorbar\":{\"outlinewidth\":0,\"ticks\":\"\"}},\"type\":\"scatter\"}],\"scatter3d\":[{\"line\":{\"colorbar\":{\"outlinewidth\":0,\"ticks\":\"\"}},\"marker\":{\"colorbar\":{\"outlinewidth\":0,\"ticks\":\"\"}},\"type\":\"scatter3d\"}],\"scattercarpet\":[{\"marker\":{\"colorbar\":{\"outlinewidth\":0,\"ticks\":\"\"}},\"type\":\"scattercarpet\"}],\"scattergeo\":[{\"marker\":{\"colorbar\":{\"outlinewidth\":0,\"ticks\":\"\"}},\"type\":\"scattergeo\"}],\"scattergl\":[{\"marker\":{\"colorbar\":{\"outlinewidth\":0,\"ticks\":\"\"}},\"type\":\"scattergl\"}],\"scattermapbox\":[{\"marker\":{\"colorbar\":{\"outlinewidth\":0,\"ticks\":\"\"}},\"type\":\"scattermapbox\"}],\"scatterpolar\":[{\"marker\":{\"colorbar\":{\"outlinewidth\":0,\"ticks\":\"\"}},\"type\":\"scatterpolar\"}],\"scatterpolargl\":[{\"marker\":{\"colorbar\":{\"outlinewidth\":0,\"ticks\":\"\"}},\"type\":\"scatterpolargl\"}],\"scatterternary\":[{\"marker\":{\"colorbar\":{\"outlinewidth\":0,\"ticks\":\"\"}},\"type\":\"scatterternary\"}],\"surface\":[{\"colorbar\":{\"outlinewidth\":0,\"ticks\":\"\"},\"colorscale\":[[0.0,\"#0d0887\"],[0.1111111111111111,\"#46039f\"],[0.2222222222222222,\"#7201a8\"],[0.3333333333333333,\"#9c179e\"],[0.4444444444444444,\"#bd3786\"],[0.5555555555555556,\"#d8576b\"],[0.6666666666666666,\"#ed7953\"],[0.7777777777777778,\"#fb9f3a\"],[0.8888888888888888,\"#fdca26\"],[1.0,\"#f0f921\"]],\"type\":\"surface\"}],\"table\":[{\"cells\":{\"fill\":{\"color\":\"#EBF0F8\"},\"line\":{\"color\":\"white\"}},\"header\":{\"fill\":{\"color\":\"#C8D4E3\"},\"line\":{\"color\":\"white\"}},\"type\":\"table\"}]},\"layout\":{\"annotationdefaults\":{\"arrowcolor\":\"#2a3f5f\",\"arrowhead\":0,\"arrowwidth\":1},\"autotypenumbers\":\"strict\",\"coloraxis\":{\"colorbar\":{\"outlinewidth\":0,\"ticks\":\"\"}},\"colorscale\":{\"diverging\":[[0,\"#8e0152\"],[0.1,\"#c51b7d\"],[0.2,\"#de77ae\"],[0.3,\"#f1b6da\"],[0.4,\"#fde0ef\"],[0.5,\"#f7f7f7\"],[0.6,\"#e6f5d0\"],[0.7,\"#b8e186\"],[0.8,\"#7fbc41\"],[0.9,\"#4d9221\"],[1,\"#276419\"]],\"sequential\":[[0.0,\"#0d0887\"],[0.1111111111111111,\"#46039f\"],[0.2222222222222222,\"#7201a8\"],[0.3333333333333333,\"#9c179e\"],[0.4444444444444444,\"#bd3786\"],[0.5555555555555556,\"#d8576b\"],[0.6666666666666666,\"#ed7953\"],[0.7777777777777778,\"#fb9f3a\"],[0.8888888888888888,\"#fdca26\"],[1.0,\"#f0f921\"]],\"sequentialminus\":[[0.0,\"#0d0887\"],[0.1111111111111111,\"#46039f\"],[0.2222222222222222,\"#7201a8\"],[0.3333333333333333,\"#9c179e\"],[0.4444444444444444,\"#bd3786\"],[0.5555555555555556,\"#d8576b\"],[0.6666666666666666,\"#ed7953\"],[0.7777777777777778,\"#fb9f3a\"],[0.8888888888888888,\"#fdca26\"],[1.0,\"#f0f921\"]]},\"colorway\":[\"#636efa\",\"#EF553B\",\"#00cc96\",\"#ab63fa\",\"#FFA15A\",\"#19d3f3\",\"#FF6692\",\"#B6E880\",\"#FF97FF\",\"#FECB52\"],\"font\":{\"color\":\"#2a3f5f\"},\"geo\":{\"bgcolor\":\"white\",\"lakecolor\":\"white\",\"landcolor\":\"#E5ECF6\",\"showlakes\":true,\"showland\":true,\"subunitcolor\":\"white\"},\"hoverlabel\":{\"align\":\"left\"},\"hovermode\":\"closest\",\"mapbox\":{\"style\":\"light\"},\"paper_bgcolor\":\"white\",\"plot_bgcolor\":\"#E5ECF6\",\"polar\":{\"angularaxis\":{\"gridcolor\":\"white\",\"linecolor\":\"white\",\"ticks\":\"\"},\"bgcolor\":\"#E5ECF6\",\"radialaxis\":{\"gridcolor\":\"white\",\"linecolor\":\"white\",\"ticks\":\"\"}},\"scene\":{\"xaxis\":{\"backgroundcolor\":\"#E5ECF6\",\"gridcolor\":\"white\",\"gridwidth\":2,\"linecolor\":\"white\",\"showbackground\":true,\"ticks\":\"\",\"zerolinecolor\":\"white\"},\"yaxis\":{\"backgroundcolor\":\"#E5ECF6\",\"gridcolor\":\"white\",\"gridwidth\":2,\"linecolor\":\"white\",\"showbackground\":true,\"ticks\":\"\",\"zerolinecolor\":\"white\"},\"zaxis\":{\"backgroundcolor\":\"#E5ECF6\",\"gridcolor\":\"white\",\"gridwidth\":2,\"linecolor\":\"white\",\"showbackground\":true,\"ticks\":\"\",\"zerolinecolor\":\"white\"}},\"shapedefaults\":{\"line\":{\"color\":\"#2a3f5f\"}},\"ternary\":{\"aaxis\":{\"gridcolor\":\"white\",\"linecolor\":\"white\",\"ticks\":\"\"},\"baxis\":{\"gridcolor\":\"white\",\"linecolor\":\"white\",\"ticks\":\"\"},\"bgcolor\":\"#E5ECF6\",\"caxis\":{\"gridcolor\":\"white\",\"linecolor\":\"white\",\"ticks\":\"\"}},\"title\":{\"x\":0.05},\"xaxis\":{\"automargin\":true,\"gridcolor\":\"white\",\"linecolor\":\"white\",\"ticks\":\"\",\"title\":{\"standoff\":15},\"zerolinecolor\":\"white\",\"zerolinewidth\":2},\"yaxis\":{\"automargin\":true,\"gridcolor\":\"white\",\"linecolor\":\"white\",\"ticks\":\"\",\"title\":{\"standoff\":15},\"zerolinecolor\":\"white\",\"zerolinewidth\":2}}},\"xaxis\":{\"anchor\":\"y\",\"domain\":[0.0,1.0],\"title\":{\"text\":\"x\"}},\"yaxis\":{\"anchor\":\"x\",\"domain\":[0.0,1.0],\"title\":{\"text\":\"y\"}},\"legend\":{\"tracegroupgap\":0},\"margin\":{\"t\":60}},                        {\"responsive\": true}                    ).then(function(){\n",
              "                            \n",
              "var gd = document.getElementById('29907d11-fb99-4b51-9854-8e2e925c4289');\n",
              "var x = new MutationObserver(function (mutations, observer) {{\n",
              "        var display = window.getComputedStyle(gd).display;\n",
              "        if (!display || display === 'none') {{\n",
              "            console.log([gd, 'removed!']);\n",
              "            Plotly.purge(gd);\n",
              "            observer.disconnect();\n",
              "        }}\n",
              "}});\n",
              "\n",
              "// Listen for the removal of the full notebook cells\n",
              "var notebookContainer = gd.closest('#notebook-container');\n",
              "if (notebookContainer) {{\n",
              "    x.observe(notebookContainer, {childList: true});\n",
              "}}\n",
              "\n",
              "// Listen for the clearing of the current output cell\n",
              "var outputEl = gd.closest('.output');\n",
              "if (outputEl) {{\n",
              "    x.observe(outputEl, {childList: true});\n",
              "}}\n",
              "\n",
              "                        })                };                            </script>        </div>\n",
              "</body>\n",
              "</html>"
            ]
          },
          "metadata": {}
        }
      ]
    },
    {
      "cell_type": "code",
      "source": [
        "import matplotlib.pyplot as plt\n",
        "import numpy as np\n",
        "import tensorflow as tf\n",
        "from tensorflow.keras.models import Model, Sequential\n",
        "from tensorflow.keras.layers import Dense\n",
        "import pandas as pd\n",
        "import random\n",
        "from sklearn.preprocessing import StandardScaler"
      ],
      "metadata": {
        "id": "JtHiW-EPPeTY"
      },
      "execution_count": 31,
      "outputs": []
    },
    {
      "cell_type": "code",
      "source": [
        "x_train = enc_df.to_numpy()\n",
        "\n",
        "# Scale data to have zero mean and unit variance\n",
        "scaler = StandardScaler()\n",
        "scaler.fit(x_train)\n",
        "x_train = scaler.transform(enc_df)"
      ],
      "metadata": {
        "id": "McjGzagiPK7C"
      },
      "execution_count": 32,
      "outputs": []
    },
    {
      "cell_type": "code",
      "source": [
        "\n",
        "\n",
        "input_dim = 1347\n",
        "\n",
        "# This is the dimension of the latent space (encoding space)\n",
        "latent_dim = 2\n",
        "\n",
        "encoder = Sequential([\n",
        "    Dense(128, activation='relu', input_shape=(input_dim,)),\n",
        "        Dense(32, activation='relu'),\n",
        "    Dense(16, activation='relu'),\n",
        "\n",
        "    Dense(8, activation='relu'),\n",
        "    Dense(4, activation='relu'),\n",
        "    Dense(latent_dim, activation='relu')\n",
        "])\n",
        "\n",
        "decoder = Sequential([\n",
        "    Dense(64, activation='relu', input_shape=(latent_dim,)),\n",
        "        Dense(32, activation='relu'),\n",
        "                Dense(16, activation='relu'),\n",
        "\n",
        "\n",
        "    Dense(8, activation='relu'),\n",
        "    Dense(4, activation='relu'),\n",
        "\n",
        "    Dense(input_dim, activation=None)\n",
        "])"
      ],
      "metadata": {
        "id": "MJmTaFvHPK-f"
      },
      "execution_count": 46,
      "outputs": []
    },
    {
      "cell_type": "code",
      "source": [
        "autoencoder = Model(inputs=encoder.input, outputs=decoder(encoder.output))\n",
        "autoencoder.compile(loss='mse', optimizer='adam')\n"
      ],
      "metadata": {
        "id": "maUYxI0SPy9n"
      },
      "execution_count": 47,
      "outputs": []
    },
    {
      "cell_type": "code",
      "source": [
        "encoded_x_train = encoder(x_train)\n",
        "plt.figure(figsize=(6,6))\n",
        "plt.scatter(encoded_x_train[:, 0], encoded_x_train[:, 1], alpha=0.9)\n",
        "plt.xlabel('Latent Dimension 1')\n",
        "plt.ylabel('Latent Dimension 2');"
      ],
      "metadata": {
        "colab": {
          "base_uri": "https://localhost:8080/",
          "height": 389
        },
        "id": "Fx-U0gj0P0oB",
        "outputId": "4cdb5b5e-5855-490f-a398-12a6c6d89c18"
      },
      "execution_count": 48,
      "outputs": [
        {
          "output_type": "display_data",
          "data": {
            "text/plain": [
              "<Figure size 432x432 with 1 Axes>"
            ],
            "image/png": "[encoded data removed]"
          },
          "metadata": {
            "needs_background": "light"
          }
        }
      ]
    },
    {
      "cell_type": "code",
      "source": [
        "import plotly.express as px\n",
        "fig = px.scatter(x=encoded_x_train[:,0], y=encoded_x_train[:,1],text=dog[\"Unnamed: 0\"])\n",
        "fig.show()"
      ],
      "metadata": {
        "colab": {
          "base_uri": "https://localhost:8080/",
          "height": 542
        },
        "id": "t5JMCuBUP5fk",
        "outputId": "6cfccc9a-8350-46b6-92c2-eba186cf6a1c"
      },
      "execution_count": 49,
      "outputs": [
        {
          "output_type": "display_data",
          "data": {
            "text/html": [
              "<html>\n",
              "<head><meta charset=\"utf-8\" /></head>\n",
              "<body>\n",
              "    <div>            <script src=\"https://cdnjs.cloudflare.com/ajax/libs/mathjax/2.7.5/MathJax.js?config=TeX-AMS-MML_SVG\"></script><script type=\"text/javascript\">if (window.MathJax) {MathJax.Hub.Config({SVG: {font: \"STIX-Web\"}});}</script>                <script type=\"text/javascript\">window.PlotlyConfig = {MathJaxConfig: 'local'};</script>\n",
              "        <script src=\"https://cdn.plot.ly/plotly-2.8.3.min.js\"></script>                <div id=\"80c84062-ca10-4e88-8843-ff9ead0f0687\" class=\"plotly-graph-div\" style=\"height:525px; width:100%;\"></div>            <script type=\"text/javascript\">                                    window.PLOTLYENV=window.PLOTLYENV || {};                                    if (document.getElementById(\"80c84062-ca10-4e88-8843-ff9ead0f0687\")) {                    Plotly.newPlot(                        \"80c84062-ca10-4e88-8843-ff9ead0f0687\",                        [{\"hovertemplate\":\"x=%{x}<br>y=%{y}<br>text=%{text}<extra></extra>\",\"legendgroup\":\"\",\"marker\":{\"color\":\"#636efa\",\"symbol\":\"circle\"},\"mode\":\"markers+text\",\"name\":\"\",\"orientation\":\"v\",\"showlegend\":false,\"text\":[\"Affenpinscher\",\"Afghan Hound\",\"Airedale Terrier\",\"Akita\",\"Alaskan Malamute\",\"American Bulldog\",\"American English Coonhound\",\"American Eskimo Dog\",\"American Foxhound\",\"American Hairless Terrier\",\"American Leopard Hound\",\"American Staffordshire Terrier\",\"American Water Spaniel\",\"Anatolian Shepherd Dog\",\"Appenzeller Sennenhund\",\"Australian Cattle Dog\",\"Australian Kelpie\",\"Australian Shepherd\",\"Australian Stumpy Tail Cattle Dog\",\"Australian Terrier\",\"Azawakh\",\"Barbet\",\"Basenji\",\"Basset Fauve de Bretagne\",\"Basset Hound\",\"Bavarian Mountain Scent Hound\",\"Beagle\",\"Bearded Collie\",\"Beauceron\",\"Bedlington Terrier\",\"Belgian Laekenois\",\"Belgian Malinois\",\"Belgian Sheepdog\",\"Belgian Tervuren\",\"Bergamasco Sheepdog\",\"Berger Picard\",\"Bernese Mountain Dog\",\"Bichon Frise\",\"Biewer Terrier\",\"Black and Tan Coonhound\",\"Black Russian Terrier\",\"Bloodhound\",\"Bluetick Coonhound\",\"Boerboel\",\"Bohemian Shepherd\",\"Bolognese\",\"Border Collie\",\"Border Terrier\",\"Borzoi\",\"Boston Terrier\",\"Bouvier des Flandres\",\"Boxer\",\"Boykin Spaniel\",\"Bracco Italiano\",\"Braque du Bourbonnais\",\"Braque Francais Pyrenean\",\"Briard\",\"Brittany\",\"Broholmer\",\"Brussels Griffon\",\"Bull Terrier\",\"Bulldog\",\"Bullmastiff\",\"Cairn Terrier\",\"Canaan Dog\",\"Cane Corso\",\"Cardigan Welsh Corgi\",\"Carolina Dog\",\"Catahoula Leopard Dog\",\"Caucasian Shepherd Dog\",\"Cavalier King Charles Spaniel\",\"Central Asian Shepherd Dog\",\"Cesky Terrier\",\"Chesapeake Bay Retriever\",\"Chihuahua\",\"Chinese Crested\",\"Chinese Shar-Pei\",\"Chinook\",\"Chow Chow\",\"Cirneco dell\\u2019Etna\",\"Clumber Spaniel\",\"Cocker Spaniel\",\"Collie\",\"Coton de Tulear\",\"Croatian Sheepdog\",\"Curly-Coated Retriever\",\"Czechoslovakian Vlcak\",\"Dachshund\",\"Dalmatian\",\"Dandie Dinmont Terrier\",\"Danish-Swedish Farmdog\",\"Deutscher Wachtelhund\",\"Doberman Pinscher\",\"Dogo Argentino\",\"Dogue de Bordeaux\",\"Drentsche Patrijshond\",\"Drever\",\"Dutch Shepherd\",\"English Cocker Spaniel\",\"English Foxhound\",\"English Setter\",\"English Springer Spaniel\",\"English Toy Spaniel\",\"Entlebucher Mountain Dog\",\"Estrela Mountain Dog\",\"Eurasier\",\"Field Spaniel\",\"Finnish Lapphund\",\"Finnish Spitz\",\"Flat-Coated Retriever\",\"French Bulldog\",\"French Spaniel\",\"German Longhaired Pointer\",\"German Pinscher\",\"German Shepherd Dog\",\"German Shorthaired Pointer\",\"German Spitz\",\"German Wirehaired Pointer\",\"Giant Schnauzer\",\"Glen of Imaal Terrier\",\"Golden Retriever\",\"Gordon Setter\",\"Grand Basset Griffon Vend\\u00e9en\",\"Great Dane\",\"Great Pyrenees\",\"Greater Swiss Mountain Dog\",\"Greyhound\",\"Hamiltonstovare\",\"Hanoverian Scenthound\",\"Harrier\",\"Havanese\",\"Hokkaido\",\"Hovawart\",\"Ibizan Hound\",\"Icelandic Sheepdog\",\"Irish Red and White Setter\",\"Irish Setter\",\"Irish Terrier\",\"Irish Water Spaniel\",\"Irish Wolfhound\",\"Italian Greyhound\",\"Jagdterrier\",\"Japanese Chin\",\"Japanese Spitz\",\"Jindo\",\"Kai Ken\",\"Karelian Bear Dog\",\"Keeshond\",\"Kerry Blue Terrier\",\"Kishu Ken\",\"Komondor\",\"Kromfohrlander\",\"Kuvasz\",\"Labrador Retriever\",\"Lagotto Romagnolo\",\"Lakeland Terrier\",\"Lancashire Heeler\",\"Lapponian Herder\",\"Leonberger\",\"Lhasa Apso\",\"L\\u00f6wchen\",\"Maltese\",\"Manchester Terrier (Standard)\",\"Manchester Terrier (Toy)\",\"Mastiff\",\"Miniature American Shepherd\",\"Miniature Bull Terrier\",\"Miniature Pinscher\",\"Miniature Schnauzer\",\"Mountain Cur\",\"Mudi\",\"Neapolitan Mastiff\",\"Nederlandse Kooikerhondje\",\"Newfoundland\",\"Norfolk Terrier\",\"Norrbottenspets\",\"Norwegian Buhund\",\"Norwegian Elkhound\",\"Norwegian Lundehund\",\"Norwich Terrier\",\"Nova Scotia Duck Tolling Retriever\",\"Old English Sheepdog\",\"Otterhound\",\"Papillon\",\"Parson Russell Terrier\",\"Pekingese\",\"Pembroke Welsh Corgi\",\"Perro de Presa Canario\",\"Peruvian Inca Orchid\",\"Petit Basset Griffon Vend\\u00e9en\",\"Pharaoh Hound\",\"Plott Hound\",\"Pointer\",\"Polish Lowland Sheepdog\",\"Pomeranian\",\"Poodle (Miniature)\",\"Poodle (Standard)\",\"Poodle (Toy)\",\"Porcelaine\",\"Portuguese Podengo\",\"Portuguese Podengo Pequeno\",\"Portuguese Pointer\",\"Portuguese Sheepdog\",\"Portuguese Water Dog\",\"Pudelpointer\",\"Pug\",\"Puli\",\"Pumi\",\"Pyrenean Mastiff\",\"Pyrenean Shepherd\",\"Rafeiro do Alentejo\",\"Rat Terrier\",\"Redbone Coonhound\",\"Rhodesian Ridgeback\",\"Romanian Mioritic Shepherd Dog\",\"Rottweiler\",\"Russell Terrier\",\"Russian Toy\",\"Russian Tsvetnaya Bolonka\",\"Saint Bernard\",\"Saluki\",\"Samoyed\",\"Schapendoes\",\"Schipperke\",\"Scottish Deerhound\",\"Scottish Terrier\",\"Sealyham Terrier\",\"Segugio Italiano\",\"Shetland Sheepdog\",\"Shiba Inu\",\"Shih Tzu\",\"Shikoku\",\"Siberian Husky\",\"Silky Terrier\",\"Skye Terrier\",\"Sloughi\",\"Slovakian Wirehaired Pointer\",\"Slovensky Cuvac\",\"Slovensky Kopov\",\"Small Munsterlander Pointer\",\"Smooth Fox Terrier\",\"Soft Coated Wheaten Terrier\",\"Spanish Mastiff\",\"Spanish Water Dog\",\"Spinone Italiano\",\"Stabyhoun\",\"Staffordshire Bull Terrier\",\"Standard Schnauzer\",\"Sussex Spaniel\",\"Swedish Lapphund\",\"Swedish Vallhund\",\"Taiwan Dog\",\"Teddy Roosevelt Terrier\",\"Thai Ridgeback\",\"Tibetan Mastiff\",\"Tibetan Spaniel\",\"Tibetan Terrier\",\"Tornjak\",\"Tosa\",\"Toy Fox Terrier\",\"Transylvanian Hound\",\"Treeing Tennessee Brindle\",\"Treeing Walker Coonhound\",\"Vizsla\",\"Weimaraner\",\"Welsh Springer Spaniel\",\"Welsh Terrier\",\"West Highland White Terrier\",\"Wetterhoun\",\"Whippet\",\"Wire Fox Terrier\",\"Wirehaired Pointing Griffon\",\"Wirehaired Vizsla\",\"Working Kelpie\",\"Xoloitzcuintli\",\"Yakutian Laika\",\"Yorkshire Terrier\"],\"x\":[0.037022724747657776,0.06545916199684143,0.02467477321624756,0.07260392606258392,0.07159233093261719,0.042400747537612915,0.06350629031658173,0.03984569385647774,0.06023390591144562,0.07153231650590897,0.06940104812383652,0.05534203350543976,0.03786734119057655,0.12911280989646912,0.06230427697300911,0.02349514327943325,0.050633274018764496,0.09257669001817703,0.12523776292800903,0.04428050294518471,0.0547470860183239,0.0343119241297245,0.04079189896583557,0.04355982691049576,0.02692723460495472,0.040349047631025314,0.08996092528104782,0.050172582268714905,0.026427047327160835,0.07349559664726257,0.05207444354891777,0.05024499073624611,0.05491408705711365,0.030880413949489594,0.061381932348012924,0.047746531665325165,0.03303544595837593,0.03721489757299423,0.12083175778388977,0.05817631632089615,0.08153694868087769,0.03485536947846413,0.06606699526309967,0.19096694886684418,0.033404894173145294,0.10943204909563065,0.05434858426451683,0.05133930593729019,0.03946278989315033,0.03960425406694412,0.06234683468937874,0.0565439872443676,0.11768664419651031,0.020643210038542747,0.05082377418875694,0.06351906061172485,0.07981352508068085,0.0581415519118309,0.07417352497577667,0.04830519109964371,0.09240645915269852,0.048801373690366745,0.06861057877540588,0.07601656764745712,0.06860469281673431,0.09631984680891037,0.15873830020427704,0.06717349588871002,0.0431102029979229,0.030073048546910286,0.04332048445940018,0.17550086975097656,0.040860552340745926,0.06349994242191315,0.07939542829990387,0.06336113065481186,0.10862424969673157,0.031168505549430847,0.054807811975479126,0.03382043167948723,0.1478380262851715,0.031136585399508476,0.06728121638298035,0.053379081189632416,0.021055055782198906,0.0587209053337574,0.08004831522703171,0.20453308522701263,0.051762089133262634,0.03812412917613983,0.05778079107403755,0.05189841613173485,0.031648557633161545,0.08028976619243622,0.10284730792045593,0.08397360891103745,0.022903908044099808,0.03994418680667877,0.07076187431812286,0.15213946998119354,0.076185442507267,0.037516847252845764,0.039471302181482315,0.04391079396009445,0.04289105907082558,0.04579892382025719,0.053008414804935455,0.07956388592720032,0.02369767799973488,0.05410175770521164,0.058302637189626694,0.1634259819984436,0.03995895013213158,0.07464390248060226,0.07246033847332001,0.0686178132891655,0.031579066067934036,0.031956981867551804,0.06136423721909523,0.016174284741282463,0.051159847527742386,0.022951249033212662,0.030435509979724884,0.054481156170368195,0.04162587225437164,0.0664440169930458,0.05634280666708946,0.09066364169120789,0.06835372745990753,0.039896417409181595,0.05374188721179962,0.02686859667301178,0.07891659438610077,0.030711252242326736,0.11693880707025528,0.053083039820194244,0.0972679927945137,0.04630217328667641,0.06467059999704361,0.07439631968736649,0.07887733727693558,0.07825079560279846,0.10763950645923615,0.029043667018413544,0.07558052241802216,0.02002982795238495,0.05558059737086296,0.05356420576572418,0.03096874989569187,0.05840117484331131,0.02710384503006935,0.047603949904441833,0.1141878291964531,0.13613630831241608,0.025459958240389824,0.04017243534326553,0.09757315367460251,0.09647209942340851,0.09248756617307663,0.07062651962041855,0.04494939371943474,0.06063561141490936,0.09750816226005554,0.061406951397657394,0.10009269416332245,0.07761814445257187,0.06372754275798798,0.04259803146123886,0.05210850387811661,0.04536551237106323,0.0837823823094368,0.0783039778470993,0.03459228575229645,0.05735359340906143,0.14710362255573273,0.055749550461769104,0.0811353474855423,0.0492120087146759,0.0466974712908268,0.04520753026008606,0.08737926930189133,0.06451613456010818,0.10303907841444016,0.14090681076049805,0.03951329365372658,0.12883391976356506,0.044343359768390656,0.059423793107271194,0.051849834620952606,0.05673050135374069,0.08730310946702957,0.10725174099206924,0.03248286247253418,0.05505532771348953,0.062412187457084656,0.0538606122136116,0.05965248495340347,0.060110677033662796,0.03500513732433319,0.08271010220050812,0.1471877098083496,0.03154278174042702,0.07831889390945435,0.04062136635184288,0.027520395815372467,0.16751329600811005,0.016043681651353836,0.03542868047952652,0.08015936613082886,0.07113108038902283,0.06588704884052277,0.044568438082933426,0.031146742403507233,0.0655362531542778,0.042996130883693695,0.09711888432502747,0.06595338135957718,0.06346864253282547,0.12774179875850677,0.10989442467689514,0.026020558550953865,0.2444002628326416,0.04265739023685455,0.0733380913734436,0.06565549969673157,0.06370291858911514,0.07194425910711288,0.03837710618972778,0.05144841969013214,0.05965399369597435,0.06421418488025665,0.04970904067158699,0.0603950060904026,0.05117296054959297,0.057901106774806976,0.11192652583122253,0.03300456702709198,0.0613926462829113,0.02605198137462139,0.053592514246702194,0.09954804927110672,0.05963791534304619,0.08467961847782135,0.05940805748105049,0.11112892627716064,0.03620368614792824,0.05572773143649101,0.07990878820419312,0.11526518315076828,0.03979916125535965,0.05340257287025452,0.07140606641769409,0.049722716212272644,0.06839586049318314,0.05914625898003578,0.048954304307699203,0.030034765601158142,0.07243771851062775,0.07182477414608002,0.06155949831008911,0.10263553261756897,0.07912985235452652,0.06973812729120255,0.12306120246648788,0.031094705685973167,0.02528592012822628,0.03672799840569496,0.09221452474594116,0.12184223532676697,0.12181026488542557,0.04473654553294182,0.053172990679740906,0.04366481304168701,0.18196161091327667,0.051282305270433426,0.028112657368183136,0.10703267902135849],\"xaxis\":\"x\",\"y\":[0.2205079346895218,0.23871074616909027,0.1597849577665329,0.3332045376300812,0.46360620856285095,0.23294812440872192,0.32349616289138794,0.2580264210700989,0.3900531232357025,0.35178399085998535,0.2748764753341675,0.3583751320838928,0.2452152967453003,0.6063340902328491,0.4034601151943207,0.1521461009979248,0.32788291573524475,0.31926169991493225,0.4628583490848541,0.286744624376297,0.3545224666595459,0.2221916913986206,0.2285524159669876,0.2820777893066406,0.17437109351158142,0.2612859308719635,0.3928733170032501,0.3248996138572693,0.17113207280635834,0.3509783446788788,0.337215393781662,0.3253684937953949,0.3429225981235504,0.14135554432868958,0.23157677054405212,0.3091893792152405,0.21392567455768585,0.2409903109073639,0.5364994406700134,0.37672892212867737,0.528003990650177,0.22571085393428802,0.4278261363506317,0.6112343668937683,0.21631810069084167,0.3730091452598572,0.35194191336631775,0.3324549198150635,0.2555468678474426,0.2564629316329956,0.4037356972694397,0.36615854501724243,0.532976508140564,0.13367801904678345,0.32911649346351624,0.41132664680480957,0.3563995063304901,0.3765037953853607,0.48032107949256897,0.3128070533275604,0.40967199206352234,0.3160201609134674,0.4442974627017975,0.49225595593452454,0.4442593455314636,0.37383681535720825,0.5536438822746277,0.4349914491176605,0.27916619181632996,0.19474224746227264,0.28052788972854614,0.5826013684272766,0.2645982503890991,0.2871372103691101,0.5141362547874451,0.41030389070510864,0.366982638835907,0.20183604955673218,0.35491570830345154,0.21900896728038788,0.5864511728286743,0.20162934064865112,0.3854190707206726,0.34566375613212585,0.13634496927261353,0.30398377776145935,0.5183641314506531,0.6277045011520386,0.3351927101612091,0.24687816202640533,0.37416765093803406,0.33607548475265503,0.2049447000026703,0.39899227023124695,0.6660022139549255,0.5437829494476318,0.14831748604774475,0.25866419076919556,0.4582284390926361,0.6016533970832825,0.49334952235221863,0.2429456263780594,0.2556019723415375,0.28435051441192627,0.27774709463119507,0.2965773940086365,0.33510690927505493,0.32560044527053833,0.1534576416015625,0.3503435552120209,0.37754693627357483,0.6350608468055725,0.1870339810848236,0.4201369285583496,0.469227135181427,0.2751770615577698,0.16253599524497986,0.20694194734096527,0.3973727524280548,0.10473886132240295,0.3312928080558777,0.13687488436698914,0.19708943367004395,0.3029164671897888,0.19772669672966003,0.4302675724029541,0.3648557960987091,0.3561345338821411,0.4426341652870178,0.25835487246513367,0.34801316261291504,0.1739913821220398,0.5110355019569397,0.1988750398159027,0.4111393988132477,0.34374669194221497,0.4945720434188843,0.29983624815940857,0.3703753352165222,0.4817638099193573,0.3073122799396515,0.34457337856292725,0.522697925567627,0.18807636201381683,0.2750605046749115,0.12970596551895142,0.3599199652671814,0.3468625545501709,0.20054249465465546,0.23901361227035522,0.17551475763320923,0.3082660734653473,0.7394393682479858,0.5124370455741882,0.1648695468902588,0.2601422667503357,0.6318486928939819,0.4168927073478699,0.4074535071849823,0.30748188495635986,0.291076123714447,0.3926544189453125,0.4502045512199402,0.397649347782135,0.4586881399154663,0.2940969169139862,0.41267669200897217,0.2500404417514801,0.33743593096733093,0.2615736424922943,0.5425446033477783,0.3506857454776764,0.22400721907615662,0.37140125036239624,0.4547882378101349,0.36101406812667847,0.36881697177886963,0.3186792731285095,0.3023960292339325,0.29274773597717285,0.308937132358551,0.41778329014778137,0.6672440767288208,0.4295276999473572,0.22919206321239471,0.5765904188156128,0.28715166449546814,0.38480713963508606,0.3357609212398529,0.2922431528568268,0.3533068895339966,0.40172746777534485,0.21034735441207886,0.3565185070037842,0.40415892004966736,0.3487819731235504,0.386288046836853,0.3892551362514496,0.2266806960105896,0.5356009006500244,0.5013397932052612,0.18996340036392212,0.5071650147438049,0.20182012021541595,0.17821219563484192,0.5553841590881348,0.10389312356710434,0.2294234037399292,0.5190832614898682,0.46061933040618896,0.4266608655452728,0.28860920667648315,0.20169511437416077,0.39082908630371094,0.21657335758209229,0.6289069652557373,0.42709043622016907,0.41100013256073,0.40711161494255066,0.38891443610191345,0.16849978268146515,0.773047685623169,0.2762339413166046,0.23602193593978882,0.36891570687294006,0.4125172197818756,0.465885192155838,0.24851635098457336,0.33316147327423096,0.3862978518009186,0.29379087686538696,0.3218978941440582,0.3910963535308838,0.33137771487236023,0.2884569466114044,0.38017043471336365,0.2137257158756256,0.3494982421398163,0.16870327293872833,0.3470458686351776,0.644637405872345,0.38619372248649597,0.5483548045158386,0.2924947440624237,0.719631016254425,0.21346350014209747,0.360872745513916,0.5174605846405029,0.49021461606025696,0.2577250599861145,0.34581586718559265,0.2784377932548523,0.32198643684387207,0.2903226912021637,0.3111933171749115,0.3170104920864105,0.1944943517446518,0.3856559991836548,0.4651114344596863,0.39863717555999756,0.6646308302879333,0.5124164819717407,0.45159903168678284,0.4932713508605957,0.2013581395149231,0.1637425273656845,0.2378373146057129,0.31708207726478577,0.3982461392879486,0.43801119923591614,0.2896977961063385,0.34432917833328247,0.28275763988494873,0.3255464434623718,0.24944457411766052,0.18204747140407562,0.4190826714038849],\"yaxis\":\"y\",\"type\":\"scatter\"}],                        {\"template\":{\"data\":{\"bar\":[{\"error_x\":{\"color\":\"#2a3f5f\"},\"error_y\":{\"color\":\"#2a3f5f\"},\"marker\":{\"line\":{\"color\":\"#E5ECF6\",\"width\":0.5},\"pattern\":{\"fillmode\":\"overlay\",\"size\":10,\"solidity\":0.2}},\"type\":\"bar\"}],\"barpolar\":[{\"marker\":{\"line\":{\"color\":\"#E5ECF6\",\"width\":0.5},\"pattern\":{\"fillmode\":\"overlay\",\"size\":10,\"solidity\":0.2}},\"type\":\"barpolar\"}],\"carpet\":[{\"aaxis\":{\"endlinecolor\":\"#2a3f5f\",\"gridcolor\":\"white\",\"linecolor\":\"white\",\"minorgridcolor\":\"white\",\"startlinecolor\":\"#2a3f5f\"},\"baxis\":{\"endlinecolor\":\"#2a3f5f\",\"gridcolor\":\"white\",\"linecolor\":\"white\",\"minorgridcolor\":\"white\",\"startlinecolor\":\"#2a3f5f\"},\"type\":\"carpet\"}],\"choropleth\":[{\"colorbar\":{\"outlinewidth\":0,\"ticks\":\"\"},\"type\":\"choropleth\"}],\"contour\":[{\"colorbar\":{\"outlinewidth\":0,\"ticks\":\"\"},\"colorscale\":[[0.0,\"#0d0887\"],[0.1111111111111111,\"#46039f\"],[0.2222222222222222,\"#7201a8\"],[0.3333333333333333,\"#9c179e\"],[0.4444444444444444,\"#bd3786\"],[0.5555555555555556,\"#d8576b\"],[0.6666666666666666,\"#ed7953\"],[0.7777777777777778,\"#fb9f3a\"],[0.8888888888888888,\"#fdca26\"],[1.0,\"#f0f921\"]],\"type\":\"contour\"}],\"contourcarpet\":[{\"colorbar\":{\"outlinewidth\":0,\"ticks\":\"\"},\"type\":\"contourcarpet\"}],\"heatmap\":[{\"colorbar\":{\"outlinewidth\":0,\"ticks\":\"\"},\"colorscale\":[[0.0,\"#0d0887\"],[0.1111111111111111,\"#46039f\"],[0.2222222222222222,\"#7201a8\"],[0.3333333333333333,\"#9c179e\"],[0.4444444444444444,\"#bd3786\"],[0.5555555555555556,\"#d8576b\"],[0.6666666666666666,\"#ed7953\"],[0.7777777777777778,\"#fb9f3a\"],[0.8888888888888888,\"#fdca26\"],[1.0,\"#f0f921\"]],\"type\":\"heatmap\"}],\"heatmapgl\":[{\"colorbar\":{\"outlinewidth\":0,\"ticks\":\"\"},\"colorscale\":[[0.0,\"#0d0887\"],[0.1111111111111111,\"#46039f\"],[0.2222222222222222,\"#7201a8\"],[0.3333333333333333,\"#9c179e\"],[0.4444444444444444,\"#bd3786\"],[0.5555555555555556,\"#d8576b\"],[0.6666666666666666,\"#ed7953\"],[0.7777777777777778,\"#fb9f3a\"],[0.8888888888888888,\"#fdca26\"],[1.0,\"#f0f921\"]],\"type\":\"heatmapgl\"}],\"histogram\":[{\"marker\":{\"pattern\":{\"fillmode\":\"overlay\",\"size\":10,\"solidity\":0.2}},\"type\":\"histogram\"}],\"histogram2d\":[{\"colorbar\":{\"outlinewidth\":0,\"ticks\":\"\"},\"colorscale\":[[0.0,\"#0d0887\"],[0.1111111111111111,\"#46039f\"],[0.2222222222222222,\"#7201a8\"],[0.3333333333333333,\"#9c179e\"],[0.4444444444444444,\"#bd3786\"],[0.5555555555555556,\"#d8576b\"],[0.6666666666666666,\"#ed7953\"],[0.7777777777777778,\"#fb9f3a\"],[0.8888888888888888,\"#fdca26\"],[1.0,\"#f0f921\"]],\"type\":\"histogram2d\"}],\"histogram2dcontour\":[{\"colorbar\":{\"outlinewidth\":0,\"ticks\":\"\"},\"colorscale\":[[0.0,\"#0d0887\"],[0.1111111111111111,\"#46039f\"],[0.2222222222222222,\"#7201a8\"],[0.3333333333333333,\"#9c179e\"],[0.4444444444444444,\"#bd3786\"],[0.5555555555555556,\"#d8576b\"],[0.6666666666666666,\"#ed7953\"],[0.7777777777777778,\"#fb9f3a\"],[0.8888888888888888,\"#fdca26\"],[1.0,\"#f0f921\"]],\"type\":\"histogram2dcontour\"}],\"mesh3d\":[{\"colorbar\":{\"outlinewidth\":0,\"ticks\":\"\"},\"type\":\"mesh3d\"}],\"parcoords\":[{\"line\":{\"colorbar\":{\"outlinewidth\":0,\"ticks\":\"\"}},\"type\":\"parcoords\"}],\"pie\":[{\"automargin\":true,\"type\":\"pie\"}],\"scatter\":[{\"marker\":{\"colorbar\":{\"outlinewidth\":0,\"ticks\":\"\"}},\"type\":\"scatter\"}],\"scatter3d\":[{\"line\":{\"colorbar\":{\"outlinewidth\":0,\"ticks\":\"\"}},\"marker\":{\"colorbar\":{\"outlinewidth\":0,\"ticks\":\"\"}},\"type\":\"scatter3d\"}],\"scattercarpet\":[{\"marker\":{\"colorbar\":{\"outlinewidth\":0,\"ticks\":\"\"}},\"type\":\"scattercarpet\"}],\"scattergeo\":[{\"marker\":{\"colorbar\":{\"outlinewidth\":0,\"ticks\":\"\"}},\"type\":\"scattergeo\"}],\"scattergl\":[{\"marker\":{\"colorbar\":{\"outlinewidth\":0,\"ticks\":\"\"}},\"type\":\"scattergl\"}],\"scattermapbox\":[{\"marker\":{\"colorbar\":{\"outlinewidth\":0,\"ticks\":\"\"}},\"type\":\"scattermapbox\"}],\"scatterpolar\":[{\"marker\":{\"colorbar\":{\"outlinewidth\":0,\"ticks\":\"\"}},\"type\":\"scatterpolar\"}],\"scatterpolargl\":[{\"marker\":{\"colorbar\":{\"outlinewidth\":0,\"ticks\":\"\"}},\"type\":\"scatterpolargl\"}],\"scatterternary\":[{\"marker\":{\"colorbar\":{\"outlinewidth\":0,\"ticks\":\"\"}},\"type\":\"scatterternary\"}],\"surface\":[{\"colorbar\":{\"outlinewidth\":0,\"ticks\":\"\"},\"colorscale\":[[0.0,\"#0d0887\"],[0.1111111111111111,\"#46039f\"],[0.2222222222222222,\"#7201a8\"],[0.3333333333333333,\"#9c179e\"],[0.4444444444444444,\"#bd3786\"],[0.5555555555555556,\"#d8576b\"],[0.6666666666666666,\"#ed7953\"],[0.7777777777777778,\"#fb9f3a\"],[0.8888888888888888,\"#fdca26\"],[1.0,\"#f0f921\"]],\"type\":\"surface\"}],\"table\":[{\"cells\":{\"fill\":{\"color\":\"#EBF0F8\"},\"line\":{\"color\":\"white\"}},\"header\":{\"fill\":{\"color\":\"#C8D4E3\"},\"line\":{\"color\":\"white\"}},\"type\":\"table\"}]},\"layout\":{\"annotationdefaults\":{\"arrowcolor\":\"#2a3f5f\",\"arrowhead\":0,\"arrowwidth\":1},\"autotypenumbers\":\"strict\",\"coloraxis\":{\"colorbar\":{\"outlinewidth\":0,\"ticks\":\"\"}},\"colorscale\":{\"diverging\":[[0,\"#8e0152\"],[0.1,\"#c51b7d\"],[0.2,\"#de77ae\"],[0.3,\"#f1b6da\"],[0.4,\"#fde0ef\"],[0.5,\"#f7f7f7\"],[0.6,\"#e6f5d0\"],[0.7,\"#b8e186\"],[0.8,\"#7fbc41\"],[0.9,\"#4d9221\"],[1,\"#276419\"]],\"sequential\":[[0.0,\"#0d0887\"],[0.1111111111111111,\"#46039f\"],[0.2222222222222222,\"#7201a8\"],[0.3333333333333333,\"#9c179e\"],[0.4444444444444444,\"#bd3786\"],[0.5555555555555556,\"#d8576b\"],[0.6666666666666666,\"#ed7953\"],[0.7777777777777778,\"#fb9f3a\"],[0.8888888888888888,\"#fdca26\"],[1.0,\"#f0f921\"]],\"sequentialminus\":[[0.0,\"#0d0887\"],[0.1111111111111111,\"#46039f\"],[0.2222222222222222,\"#7201a8\"],[0.3333333333333333,\"#9c179e\"],[0.4444444444444444,\"#bd3786\"],[0.5555555555555556,\"#d8576b\"],[0.6666666666666666,\"#ed7953\"],[0.7777777777777778,\"#fb9f3a\"],[0.8888888888888888,\"#fdca26\"],[1.0,\"#f0f921\"]]},\"colorway\":[\"#636efa\",\"#EF553B\",\"#00cc96\",\"#ab63fa\",\"#FFA15A\",\"#19d3f3\",\"#FF6692\",\"#B6E880\",\"#FF97FF\",\"#FECB52\"],\"font\":{\"color\":\"#2a3f5f\"},\"geo\":{\"bgcolor\":\"white\",\"lakecolor\":\"white\",\"landcolor\":\"#E5ECF6\",\"showlakes\":true,\"showland\":true,\"subunitcolor\":\"white\"},\"hoverlabel\":{\"align\":\"left\"},\"hovermode\":\"closest\",\"mapbox\":{\"style\":\"light\"},\"paper_bgcolor\":\"white\",\"plot_bgcolor\":\"#E5ECF6\",\"polar\":{\"angularaxis\":{\"gridcolor\":\"white\",\"linecolor\":\"white\",\"ticks\":\"\"},\"bgcolor\":\"#E5ECF6\",\"radialaxis\":{\"gridcolor\":\"white\",\"linecolor\":\"white\",\"ticks\":\"\"}},\"scene\":{\"xaxis\":{\"backgroundcolor\":\"#E5ECF6\",\"gridcolor\":\"white\",\"gridwidth\":2,\"linecolor\":\"white\",\"showbackground\":true,\"ticks\":\"\",\"zerolinecolor\":\"white\"},\"yaxis\":{\"backgroundcolor\":\"#E5ECF6\",\"gridcolor\":\"white\",\"gridwidth\":2,\"linecolor\":\"white\",\"showbackground\":true,\"ticks\":\"\",\"zerolinecolor\":\"white\"},\"zaxis\":{\"backgroundcolor\":\"#E5ECF6\",\"gridcolor\":\"white\",\"gridwidth\":2,\"linecolor\":\"white\",\"showbackground\":true,\"ticks\":\"\",\"zerolinecolor\":\"white\"}},\"shapedefaults\":{\"line\":{\"color\":\"#2a3f5f\"}},\"ternary\":{\"aaxis\":{\"gridcolor\":\"white\",\"linecolor\":\"white\",\"ticks\":\"\"},\"baxis\":{\"gridcolor\":\"white\",\"linecolor\":\"white\",\"ticks\":\"\"},\"bgcolor\":\"#E5ECF6\",\"caxis\":{\"gridcolor\":\"white\",\"linecolor\":\"white\",\"ticks\":\"\"}},\"title\":{\"x\":0.05},\"xaxis\":{\"automargin\":true,\"gridcolor\":\"white\",\"linecolor\":\"white\",\"ticks\":\"\",\"title\":{\"standoff\":15},\"zerolinecolor\":\"white\",\"zerolinewidth\":2},\"yaxis\":{\"automargin\":true,\"gridcolor\":\"white\",\"linecolor\":\"white\",\"ticks\":\"\",\"title\":{\"standoff\":15},\"zerolinecolor\":\"white\",\"zerolinewidth\":2}}},\"xaxis\":{\"anchor\":\"y\",\"domain\":[0.0,1.0],\"title\":{\"text\":\"x\"}},\"yaxis\":{\"anchor\":\"x\",\"domain\":[0.0,1.0],\"title\":{\"text\":\"y\"}},\"legend\":{\"tracegroupgap\":0},\"margin\":{\"t\":60}},                        {\"responsive\": true}                    ).then(function(){\n",
              "                            \n",
              "var gd = document.getElementById('80c84062-ca10-4e88-8843-ff9ead0f0687');\n",
              "var x = new MutationObserver(function (mutations, observer) {{\n",
              "        var display = window.getComputedStyle(gd).display;\n",
              "        if (!display || display === 'none') {{\n",
              "            console.log([gd, 'removed!']);\n",
              "            Plotly.purge(gd);\n",
              "            observer.disconnect();\n",
              "        }}\n",
              "}});\n",
              "\n",
              "// Listen for the removal of the full notebook cells\n",
              "var notebookContainer = gd.closest('#notebook-container');\n",
              "if (notebookContainer) {{\n",
              "    x.observe(notebookContainer, {childList: true});\n",
              "}}\n",
              "\n",
              "// Listen for the clearing of the current output cell\n",
              "var outputEl = gd.closest('.output');\n",
              "if (outputEl) {{\n",
              "    x.observe(outputEl, {childList: true});\n",
              "}}\n",
              "\n",
              "                        })                };                            </script>        </div>\n",
              "</body>\n",
              "</html>"
            ]
          },
          "metadata": {}
        }
      ]
    }
  ]
}